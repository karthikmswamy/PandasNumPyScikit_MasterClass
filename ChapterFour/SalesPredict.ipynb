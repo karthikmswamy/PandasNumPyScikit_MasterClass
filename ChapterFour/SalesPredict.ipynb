{
  "cells": [
    {
      "attachments": {},
      "cell_type": "markdown",
      "id": "c6b5a58a",
      "metadata": {
        "id": "c6b5a58a",
        "papermill": {
          "duration": 0.013156,
          "end_time": "2023-03-02T15:34:31.529450",
          "exception": false,
          "start_time": "2023-03-02T15:34:31.516294",
          "status": "completed"
        },
        "tags": []
      },
      "source": [
        "# **Libraries**"
      ]
    },
    {
      "cell_type": "code",
      "execution_count": 1,
      "id": "f7af8f68",
      "metadata": {
        "execution": {
          "iopub.execute_input": "2023-03-02T15:34:31.554577Z",
          "iopub.status.busy": "2023-03-02T15:34:31.553749Z",
          "iopub.status.idle": "2023-03-02T15:34:33.330434Z",
          "shell.execute_reply": "2023-03-02T15:34:33.329101Z"
        },
        "id": "f7af8f68",
        "papermill": {
          "duration": 1.793138,
          "end_time": "2023-03-02T15:34:33.333999",
          "exception": false,
          "start_time": "2023-03-02T15:34:31.540861",
          "status": "completed"
        },
        "tags": []
      },
      "outputs": [],
      "source": [
        "from sklearn.neighbors import KNeighborsRegressor\n",
        "from sklearn.preprocessing import StandardScaler\n",
        "from sklearn.ensemble import RandomForestRegressor\n",
        "from sklearn.linear_model import (\n",
        "    LinearRegression,\n",
        "    Lasso,\n",
        "    Ridge,\n",
        "    ElasticNet,\n",
        "    SGDRegressor\n",
        ")\n",
        "from sklearn.tree import DecisionTreeRegressor\n",
        "from sklearn.ensemble import GradientBoostingRegressor\n",
        "from sklearn.model_selection import train_test_split\n",
        "\n",
        "from sklearn.metrics import (\n",
        "    mean_absolute_error, \n",
        "    mean_absolute_percentage_error, \n",
        "    mean_squared_error, \n",
        "    r2_score\n",
        ")\n",
        "from sklearn.pipeline import Pipeline\n",
        "\n",
        "\n",
        "import numpy as np \n",
        "import pandas as pd \n",
        "\n",
        "import matplotlib.pyplot as plt\n",
        "import seaborn as sns\n",
        "%matplotlib inline\n",
        "\n",
        "import warnings\n",
        "warnings.filterwarnings('ignore')"
      ]
    },
    {
      "attachments": {},
      "cell_type": "markdown",
      "id": "396404dd",
      "metadata": {
        "id": "396404dd",
        "papermill": {
          "duration": 0.011084,
          "end_time": "2023-03-02T15:34:33.358045",
          "exception": false,
          "start_time": "2023-03-02T15:34:33.346961",
          "status": "completed"
        },
        "tags": []
      },
      "source": [
        "# **Data**"
      ]
    },
    {
      "cell_type": "code",
      "execution_count": 2,
      "id": "5e52830d",
      "metadata": {
        "colab": {
          "base_uri": "https://localhost:8080/",
          "height": 206
        },
        "execution": {
          "iopub.execute_input": "2023-03-02T15:34:33.383995Z",
          "iopub.status.busy": "2023-03-02T15:34:33.383570Z",
          "iopub.status.idle": "2023-03-02T15:34:33.442426Z",
          "shell.execute_reply": "2023-03-02T15:34:33.441102Z"
        },
        "id": "5e52830d",
        "outputId": "9d342ed3-a8c3-40b7-9034-16242850646a",
        "papermill": {
          "duration": 0.075947,
          "end_time": "2023-03-02T15:34:33.445495",
          "exception": false,
          "start_time": "2023-03-02T15:34:33.369548",
          "status": "completed"
        },
        "tags": []
      },
      "outputs": [
        {
          "data": {
            "text/html": [
              "<div>\n",
              "<style scoped>\n",
              "    .dataframe tbody tr th:only-of-type {\n",
              "        vertical-align: middle;\n",
              "    }\n",
              "\n",
              "    .dataframe tbody tr th {\n",
              "        vertical-align: top;\n",
              "    }\n",
              "\n",
              "    .dataframe thead th {\n",
              "        text-align: right;\n",
              "    }\n",
              "</style>\n",
              "<table border=\"1\" class=\"dataframe\">\n",
              "  <thead>\n",
              "    <tr style=\"text-align: right;\">\n",
              "      <th></th>\n",
              "      <th>Store</th>\n",
              "      <th>Date</th>\n",
              "      <th>Weekly_Sales</th>\n",
              "      <th>Holiday_Flag</th>\n",
              "      <th>Temperature</th>\n",
              "      <th>Fuel_Price</th>\n",
              "      <th>CPI</th>\n",
              "      <th>Unemployment</th>\n",
              "    </tr>\n",
              "  </thead>\n",
              "  <tbody>\n",
              "    <tr>\n",
              "      <th>0</th>\n",
              "      <td>1</td>\n",
              "      <td>05-02-2010</td>\n",
              "      <td>1643690.90</td>\n",
              "      <td>0</td>\n",
              "      <td>42.31</td>\n",
              "      <td>2.572</td>\n",
              "      <td>211.096358</td>\n",
              "      <td>8.106</td>\n",
              "    </tr>\n",
              "    <tr>\n",
              "      <th>1</th>\n",
              "      <td>1</td>\n",
              "      <td>12-02-2010</td>\n",
              "      <td>1641957.44</td>\n",
              "      <td>1</td>\n",
              "      <td>38.51</td>\n",
              "      <td>2.548</td>\n",
              "      <td>211.242170</td>\n",
              "      <td>8.106</td>\n",
              "    </tr>\n",
              "    <tr>\n",
              "      <th>2</th>\n",
              "      <td>1</td>\n",
              "      <td>19-02-2010</td>\n",
              "      <td>1611968.17</td>\n",
              "      <td>0</td>\n",
              "      <td>39.93</td>\n",
              "      <td>2.514</td>\n",
              "      <td>211.289143</td>\n",
              "      <td>8.106</td>\n",
              "    </tr>\n",
              "    <tr>\n",
              "      <th>3</th>\n",
              "      <td>1</td>\n",
              "      <td>26-02-2010</td>\n",
              "      <td>1409727.59</td>\n",
              "      <td>0</td>\n",
              "      <td>46.63</td>\n",
              "      <td>2.561</td>\n",
              "      <td>211.319643</td>\n",
              "      <td>8.106</td>\n",
              "    </tr>\n",
              "    <tr>\n",
              "      <th>4</th>\n",
              "      <td>1</td>\n",
              "      <td>05-03-2010</td>\n",
              "      <td>1554806.68</td>\n",
              "      <td>0</td>\n",
              "      <td>46.50</td>\n",
              "      <td>2.625</td>\n",
              "      <td>211.350143</td>\n",
              "      <td>8.106</td>\n",
              "    </tr>\n",
              "  </tbody>\n",
              "</table>\n",
              "</div>"
            ],
            "text/plain": [
              "   Store        Date  Weekly_Sales  Holiday_Flag  Temperature  Fuel_Price   \n",
              "0      1  05-02-2010    1643690.90             0        42.31       2.572  \\\n",
              "1      1  12-02-2010    1641957.44             1        38.51       2.548   \n",
              "2      1  19-02-2010    1611968.17             0        39.93       2.514   \n",
              "3      1  26-02-2010    1409727.59             0        46.63       2.561   \n",
              "4      1  05-03-2010    1554806.68             0        46.50       2.625   \n",
              "\n",
              "          CPI  Unemployment  \n",
              "0  211.096358         8.106  \n",
              "1  211.242170         8.106  \n",
              "2  211.289143         8.106  \n",
              "3  211.319643         8.106  \n",
              "4  211.350143         8.106  "
            ]
          },
          "execution_count": 2,
          "metadata": {},
          "output_type": "execute_result"
        }
      ],
      "source": [
        "df = pd.read_csv(\"./Walmart.csv\")\n",
        "\n",
        "# Formatting dataframe display\n",
        "df.style.hide(axis=\"index\")\n",
        "df.style.format(precision=2)\n",
        "df.style.background_gradient(subset=[\"Weekly_Sales\"])\n",
        "# cell_hover = {\n",
        "#     \"selector\": \"td:hover\",\n",
        "#     \"props\": [(\"background-color\", \"#FFFFE0\")]\n",
        "# }\n",
        "# index_names = {\n",
        "#     \"selector\": \".index_name\",\n",
        "#     \"props\": \"font-style: italic; color: darkgrey; font-weight:normal;\"\n",
        "# }\n",
        "# headers = {\n",
        "#     \"selector\": \"th:not(.index_name)\",\n",
        "#     \"props\": \"background-color: #800000; color: white;\"\n",
        "# }\n",
        "# df.style.set_table_styles([cell_hover, index_names, headers])\n",
        "\n",
        "df.head()"
      ]
    },
    {
      "cell_type": "code",
      "execution_count": 3,
      "id": "6ab6ec13",
      "metadata": {},
      "outputs": [
        {
          "name": "stdout",
          "output_type": "stream",
          "text": [
            "<class 'pandas.core.frame.DataFrame'>\n",
            "RangeIndex: 6435 entries, 0 to 6434\n",
            "Data columns (total 8 columns):\n",
            " #   Column        Non-Null Count  Dtype  \n",
            "---  ------        --------------  -----  \n",
            " 0   Store         6435 non-null   int64  \n",
            " 1   Date          6435 non-null   object \n",
            " 2   Weekly_Sales  6435 non-null   float64\n",
            " 3   Holiday_Flag  6435 non-null   int64  \n",
            " 4   Temperature   6435 non-null   float64\n",
            " 5   Fuel_Price    6435 non-null   float64\n",
            " 6   CPI           6435 non-null   float64\n",
            " 7   Unemployment  6435 non-null   float64\n",
            "dtypes: float64(5), int64(2), object(1)\n",
            "memory usage: 402.3+ KB\n"
          ]
        }
      ],
      "source": [
        "df.info()"
      ]
    },
    {
      "cell_type": "code",
      "execution_count": 4,
      "id": "UcDI6doeo0Ms",
      "metadata": {
        "colab": {
          "base_uri": "https://localhost:8080/"
        },
        "id": "UcDI6doeo0Ms",
        "outputId": "451b6ccd-de1c-477d-dc83-0111cbcc3ca0"
      },
      "outputs": [
        {
          "name": "stdout",
          "output_type": "stream",
          "text": [
            "<class 'pandas.core.frame.DataFrame'>\n",
            "RangeIndex: 6435 entries, 0 to 6434\n",
            "Data columns (total 8 columns):\n",
            " #   Column        Non-Null Count  Dtype  \n",
            "---  ------        --------------  -----  \n",
            " 0   Store         6435 non-null   int64  \n",
            " 1   Date          6435 non-null   object \n",
            " 2   Weekly_Sales  6435 non-null   float64\n",
            " 3   Holiday_Flag  6435 non-null   int64  \n",
            " 4   Temperature   6435 non-null   float64\n",
            " 5   Fuel_Price    6435 non-null   float64\n",
            " 6   CPI           6435 non-null   float64\n",
            " 7   Unemployment  6435 non-null   float64\n",
            "dtypes: float64(5), int64(2), object(1)\n",
            "memory usage: 402.3+ KB\n"
          ]
        }
      ],
      "source": [
        "df.describe().style.background_gradient(cmap = 'YlGnBu')\n",
        "df.info()"
      ]
    },
    {
      "attachments": {},
      "cell_type": "markdown",
      "id": "fae12713",
      "metadata": {
        "id": "fae12713",
        "papermill": {
          "duration": 0.011239,
          "end_time": "2023-03-02T15:34:33.468302",
          "exception": false,
          "start_time": "2023-03-02T15:34:33.457063",
          "status": "completed"
        },
        "tags": []
      },
      "source": [
        "# **Data Processing**"
      ]
    },
    {
      "cell_type": "code",
      "execution_count": 5,
      "id": "c24d125b",
      "metadata": {
        "id": "c24d125b"
      },
      "outputs": [],
      "source": [
        "# Formatting date to be consistent\n",
        "df['Date'] = pd.to_datetime(df['Date'], format=\"%d-%m-%Y\", errors='coerce')\n",
        "\n",
        "df['Day'] = df['Date'].dt.weekday\n",
        "df['Week'] = df['Date'].dt.isocalendar().week\n",
        "df['Month'] = df['Date'].dt.month\n",
        "df['Year']  = df['Date'].dt.year\n",
        "\n",
        "# Dropping the complete date as we have processed it to separate values\n",
        "df.drop('Date', axis=1, inplace=True)"
      ]
    },
    {
      "cell_type": "code",
      "execution_count": 6,
      "id": "acc86b83",
      "metadata": {},
      "outputs": [
        {
          "data": {
            "text/html": [
              "<div>\n",
              "<style scoped>\n",
              "    .dataframe tbody tr th:only-of-type {\n",
              "        vertical-align: middle;\n",
              "    }\n",
              "\n",
              "    .dataframe tbody tr th {\n",
              "        vertical-align: top;\n",
              "    }\n",
              "\n",
              "    .dataframe thead th {\n",
              "        text-align: right;\n",
              "    }\n",
              "</style>\n",
              "<table border=\"1\" class=\"dataframe\">\n",
              "  <thead>\n",
              "    <tr style=\"text-align: right;\">\n",
              "      <th></th>\n",
              "      <th>Store</th>\n",
              "      <th>Weekly_Sales</th>\n",
              "      <th>Holiday_Flag</th>\n",
              "      <th>Temperature</th>\n",
              "      <th>Fuel_Price</th>\n",
              "      <th>CPI</th>\n",
              "      <th>Unemployment</th>\n",
              "      <th>Day</th>\n",
              "      <th>Week</th>\n",
              "      <th>Month</th>\n",
              "      <th>Year</th>\n",
              "    </tr>\n",
              "  </thead>\n",
              "  <tbody>\n",
              "    <tr>\n",
              "      <th>6430</th>\n",
              "      <td>45</td>\n",
              "      <td>713173.95</td>\n",
              "      <td>0</td>\n",
              "      <td>64.88</td>\n",
              "      <td>3.997</td>\n",
              "      <td>192.013558</td>\n",
              "      <td>8.684</td>\n",
              "      <td>4</td>\n",
              "      <td>39</td>\n",
              "      <td>9</td>\n",
              "      <td>2012</td>\n",
              "    </tr>\n",
              "    <tr>\n",
              "      <th>6431</th>\n",
              "      <td>45</td>\n",
              "      <td>733455.07</td>\n",
              "      <td>0</td>\n",
              "      <td>64.89</td>\n",
              "      <td>3.985</td>\n",
              "      <td>192.170412</td>\n",
              "      <td>8.667</td>\n",
              "      <td>4</td>\n",
              "      <td>40</td>\n",
              "      <td>10</td>\n",
              "      <td>2012</td>\n",
              "    </tr>\n",
              "    <tr>\n",
              "      <th>6432</th>\n",
              "      <td>45</td>\n",
              "      <td>734464.36</td>\n",
              "      <td>0</td>\n",
              "      <td>54.47</td>\n",
              "      <td>4.000</td>\n",
              "      <td>192.327265</td>\n",
              "      <td>8.667</td>\n",
              "      <td>4</td>\n",
              "      <td>41</td>\n",
              "      <td>10</td>\n",
              "      <td>2012</td>\n",
              "    </tr>\n",
              "    <tr>\n",
              "      <th>6433</th>\n",
              "      <td>45</td>\n",
              "      <td>718125.53</td>\n",
              "      <td>0</td>\n",
              "      <td>56.47</td>\n",
              "      <td>3.969</td>\n",
              "      <td>192.330854</td>\n",
              "      <td>8.667</td>\n",
              "      <td>4</td>\n",
              "      <td>42</td>\n",
              "      <td>10</td>\n",
              "      <td>2012</td>\n",
              "    </tr>\n",
              "    <tr>\n",
              "      <th>6434</th>\n",
              "      <td>45</td>\n",
              "      <td>760281.43</td>\n",
              "      <td>0</td>\n",
              "      <td>58.85</td>\n",
              "      <td>3.882</td>\n",
              "      <td>192.308899</td>\n",
              "      <td>8.667</td>\n",
              "      <td>4</td>\n",
              "      <td>43</td>\n",
              "      <td>10</td>\n",
              "      <td>2012</td>\n",
              "    </tr>\n",
              "  </tbody>\n",
              "</table>\n",
              "</div>"
            ],
            "text/plain": [
              "      Store  Weekly_Sales  Holiday_Flag  Temperature  Fuel_Price         CPI   \n",
              "6430     45     713173.95             0        64.88       3.997  192.013558  \\\n",
              "6431     45     733455.07             0        64.89       3.985  192.170412   \n",
              "6432     45     734464.36             0        54.47       4.000  192.327265   \n",
              "6433     45     718125.53             0        56.47       3.969  192.330854   \n",
              "6434     45     760281.43             0        58.85       3.882  192.308899   \n",
              "\n",
              "      Unemployment  Day  Week  Month  Year  \n",
              "6430         8.684    4    39      9  2012  \n",
              "6431         8.667    4    40     10  2012  \n",
              "6432         8.667    4    41     10  2012  \n",
              "6433         8.667    4    42     10  2012  \n",
              "6434         8.667    4    43     10  2012  "
            ]
          },
          "execution_count": 6,
          "metadata": {},
          "output_type": "execute_result"
        }
      ],
      "source": [
        "df.tail()"
      ]
    },
    {
      "cell_type": "code",
      "execution_count": 7,
      "id": "43047257",
      "metadata": {
        "colab": {
          "base_uri": "https://localhost:8080/"
        },
        "id": "43047257",
        "outputId": "09735253-cc99-4d68-af89-7b2688e48739"
      },
      "outputs": [
        {
          "name": "stdout",
          "output_type": "stream",
          "text": [
            "# of samples in train (4500, 11)\n",
            "# of samples in test for full year (1935, 11)\n",
            "# of samples in test for six months (1170, 11)\n",
            "# of samples in test for three months (585, 11)\n"
          ]
        }
      ],
      "source": [
        "df_train =  df[df['Year'] != 2012]\n",
        "df_test_full_year =  df[df['Year'] == 2012]\n",
        "df_test_six_months =  df_test_full_year[df_test_full_year['Month'] <= 6]\n",
        "df_test_three_months =  df_test_full_year[df_test_full_year['Month'] <= 3]\n",
        "\n",
        "print(f\"# of samples in train {df_train.shape}\")\n",
        "print(f\"# of samples in test for full year {df_test_full_year.shape}\")\n",
        "print(f\"# of samples in test for six months {df_test_six_months.shape}\")\n",
        "print(f\"# of samples in test for three months {df_test_three_months.shape}\")"
      ]
    },
    {
      "cell_type": "code",
      "execution_count": 8,
      "id": "032369e8",
      "metadata": {
        "colab": {
          "base_uri": "https://localhost:8080/",
          "height": 468
        },
        "id": "032369e8",
        "outputId": "adef5b1d-417b-4426-b5e3-4fea27d739dc"
      },
      "outputs": [
        {
          "data": {
            "text/plain": [
              "\"\\ndf_train.Year.value_counts().plot(kind='bar')\\ndf_test_full_year.Year.value_counts().plot(kind='bar')\\ndf_test_six_months.Year.value_counts().plot(kind='bar')\\ndf_test_three_months.Year.value_counts().plot(kind='bar')\\n\""
            ]
          },
          "execution_count": 8,
          "metadata": {},
          "output_type": "execute_result"
        }
      ],
      "source": [
        "'''\n",
        "df_train.Year.value_counts().plot(kind='bar')\n",
        "df_test_full_year.Year.value_counts().plot(kind='bar')\n",
        "df_test_six_months.Year.value_counts().plot(kind='bar')\n",
        "df_test_three_months.Year.value_counts().plot(kind='bar')\n",
        "'''"
      ]
    },
    {
      "cell_type": "code",
      "execution_count": 9,
      "id": "5385628c",
      "metadata": {
        "colab": {
          "base_uri": "https://localhost:8080/"
        },
        "id": "5385628c",
        "outputId": "85ba9a3a-fb0a-486f-a734-0f0944fa307c"
      },
      "outputs": [
        {
          "name": "stdout",
          "output_type": "stream",
          "text": [
            " Store  Weekly_Sales  Holiday_Flag  Temperature  Fuel_Price        CPI  Unemployment  Day  Week  Month  Year\n",
            "    45     875699.81             0        50.19       3.452 188.502435         8.523    4    48     12  2011\n",
            "    45     957155.31             0        46.57       3.415 188.654469         8.523    4    49     12  2011\n",
            "    45    1078905.68             0        39.93       3.413 188.797935         8.523    4    50     12  2011\n",
            "    45    1521957.99             0        42.27       3.389 188.929975         8.523    4    51     12  2011\n",
            "    45     869403.63             1        37.79       3.389 189.062016         8.523    4    52     12  2011\n"
          ]
        }
      ],
      "source": [
        "print(df_train.tail().to_string(index=False))"
      ]
    },
    {
      "cell_type": "code",
      "execution_count": 10,
      "id": "3d625ec5",
      "metadata": {
        "colab": {
          "base_uri": "https://localhost:8080/"
        },
        "id": "3d625ec5",
        "outputId": "94c81da1-4b49-4a0d-e4cf-708a1851903e"
      },
      "outputs": [
        {
          "name": "stdout",
          "output_type": "stream",
          "text": [
            " Store  Weekly_Sales  Holiday_Flag  Temperature  Fuel_Price        CPI  Unemployment  Day  Week  Month  Year\n",
            "    45     782796.01             0        41.55       3.816 190.171493         8.424    4     9      3  2012\n",
            "    45     776968.87             0        45.52       3.848 190.335997         8.424    4    10      3  2012\n",
            "    45     788340.23             0        50.56       3.862 190.461896         8.424    4    11      3  2012\n",
            "    45     791835.37             0        59.45       3.900 190.536321         8.424    4    12      3  2012\n",
            "    45     777254.06             0        50.04       3.953 190.610746         8.424    4    13      3  2012\n"
          ]
        }
      ],
      "source": [
        "print(df_test_three_months.tail().to_string(index=False))"
      ]
    },
    {
      "cell_type": "code",
      "execution_count": 11,
      "id": "f7b5763b",
      "metadata": {
        "colab": {
          "base_uri": "https://localhost:8080/",
          "height": 564
        },
        "id": "f7b5763b",
        "outputId": "62a07876-1615-4209-aac1-bd3a36a5160d"
      },
      "outputs": [
        {
          "data": {
            "image/png": "[encoded data removed]",
            "text/plain": [
              "<Figure size 1200x600 with 1 Axes>"
            ]
          },
          "metadata": {},
          "output_type": "display_data"
        }
      ],
      "source": [
        "# Calculate average of weekly sales by store\n",
        "train_avg_sales = df_train.groupby('Store')['Weekly_Sales'].mean()\n",
        "test_avg_sales_full_year = df_test_full_year.groupby('Store')['Weekly_Sales'].mean()\n",
        "test_avg_sales_six_months = df_test_six_months.groupby('Store')['Weekly_Sales'].mean()\n",
        "test_avg_sales_three_months = df_test_three_months.groupby('Store')['Weekly_Sales'].mean()\n",
        "\n",
        "\n",
        "# Plotting\n",
        "plt.figure(figsize=(12, 6))\n",
        "plt.bar(train_avg_sales.index, train_avg_sales.values, color='r', alpha=0.7, label='Average Sales (Train)')\n",
        "plt.bar(test_avg_sales_full_year.index, test_avg_sales_full_year.values, color='g', alpha=0.7, label='Average Sales Full Year (Test)')\n",
        "plt.bar(test_avg_sales_six_months.index, test_avg_sales_six_months.values, color='g', alpha=0.4, label='Average Sales Six Months (Test)')\n",
        "plt.bar(test_avg_sales_three_months.index, test_avg_sales_three_months.values, color='b', alpha=0.1, label='Average Sales Full Year (Test)')\n",
        "\n",
        "plt.xlabel('Store')\n",
        "plt.ylabel('Average Weekly Sales')\n",
        "plt.title('Average Weekly Sales by Store')\n",
        "plt.grid(True)\n",
        "plt.legend()\n",
        "plt.show()"
      ]
    },
    {
      "attachments": {},
      "cell_type": "markdown",
      "id": "80627176",
      "metadata": {
        "id": "80627176",
        "papermill": {
          "duration": 0.012408,
          "end_time": "2023-03-02T15:34:33.978624",
          "exception": false,
          "start_time": "2023-03-02T15:34:33.966216",
          "status": "completed"
        },
        "tags": []
      },
      "source": [
        "# Data Exploration"
      ]
    },
    {
      "cell_type": "code",
      "execution_count": 12,
      "id": "f734296c",
      "metadata": {
        "colab": {
          "base_uri": "https://localhost:8080/",
          "height": 869
        },
        "execution": {
          "iopub.execute_input": "2023-03-02T15:34:34.325272Z",
          "iopub.status.busy": "2023-03-02T15:34:34.324529Z",
          "iopub.status.idle": "2023-03-02T15:34:34.775443Z",
          "shell.execute_reply": "2023-03-02T15:34:34.774210Z"
        },
        "id": "f734296c",
        "outputId": "6b986aef-8b1a-4203-b86b-b6d96fbcfcf8",
        "papermill": {
          "duration": 0.469097,
          "end_time": "2023-03-02T15:34:34.778161",
          "exception": false,
          "start_time": "2023-03-02T15:34:34.309064",
          "status": "completed"
        },
        "tags": []
      },
      "outputs": [
        {
          "data": {
            "image/png": "[encoded data removed]",
            "text/plain": [
              "<Figure size 700x2100 with 4 Axes>"
            ]
          },
          "metadata": {},
          "output_type": "display_data"
        }
      ],
      "source": [
        "plt.figure(figsize=(7,21))\n",
        "\n",
        "# Plot the weekly sales information in train and test data for each store as separate subplots\n",
        "plt.subplot(4, 1, 1)\n",
        "df_train.groupby('Store')['Weekly_Sales'].mean().plot(kind='bar')\n",
        "plt.subplot(4, 1, 2)\n",
        "df_test_full_year.groupby('Store')['Weekly_Sales'].mean().plot(kind='bar')\n",
        "plt.subplot(4, 1, 3)\n",
        "df_test_six_months.groupby('Store')['Weekly_Sales'].mean().plot(kind='bar')\n",
        "plt.subplot(4, 1, 4)\n",
        "df_test_three_months.groupby('Store')['Weekly_Sales'].mean().plot(kind='bar')\n",
        "plt.title('Year-Wise Sales')\n",
        "\n",
        "plt.show()"
      ]
    },
    {
      "cell_type": "code",
      "execution_count": 13,
      "id": "7aa389ec",
      "metadata": {
        "colab": {
          "base_uri": "https://localhost:8080/",
          "height": 491
        },
        "execution": {
          "iopub.execute_input": "2023-03-02T15:34:35.045054Z",
          "iopub.status.busy": "2023-03-02T15:34:35.043905Z",
          "iopub.status.idle": "2023-03-02T15:34:35.695721Z",
          "shell.execute_reply": "2023-03-02T15:34:35.694455Z"
        },
        "id": "7aa389ec",
        "outputId": "0fadc0a6-9c49-48ed-a88b-6d753eb3603f",
        "papermill": {
          "duration": 0.66996,
          "end_time": "2023-03-02T15:34:35.698578",
          "exception": false,
          "start_time": "2023-03-02T15:34:35.028618",
          "status": "completed"
        },
        "tags": []
      },
      "outputs": [
        {
          "data": {
            "image/png": "[encoded data removed]",
            "text/plain": [
              "<Figure size 1500x500 with 1 Axes>"
            ]
          },
          "metadata": {},
          "output_type": "display_data"
        }
      ],
      "source": [
        "plt.figure(figsize=(15,5))\n",
        "\n",
        "df_test_six_months.groupby(['Week'])['Weekly_Sales'].sum().plot(kind='bar')\n",
        "plt.title('Week-wise Sales')\n",
        "\n",
        "plt.show()"
      ]
    },
    {
      "cell_type": "code",
      "execution_count": 14,
      "id": "d69ddfe0",
      "metadata": {},
      "outputs": [
        {
          "data": {
            "image/png": "[encoded data removed]",
            "text/plain": [
              "<Figure size 1500x500 with 1 Axes>"
            ]
          },
          "metadata": {},
          "output_type": "display_data"
        }
      ],
      "source": [
        "plt.figure(figsize=(15,5))\n",
        "\n",
        "df_test_three_months.groupby(['Week'])['Weekly_Sales'].sum().plot(kind='bar')\n",
        "plt.title('Week-wise Sales')\n",
        "\n",
        "plt.show()"
      ]
    },
    {
      "cell_type": "code",
      "execution_count": 15,
      "id": "f1a84ccb",
      "metadata": {
        "colab": {
          "base_uri": "https://localhost:8080/",
          "height": 414
        },
        "execution": {
          "iopub.execute_input": "2023-03-02T15:34:35.762642Z",
          "iopub.status.busy": "2023-03-02T15:34:35.762220Z",
          "iopub.status.idle": "2023-03-02T15:34:35.954734Z",
          "shell.execute_reply": "2023-03-02T15:34:35.953422Z"
        },
        "id": "f1a84ccb",
        "outputId": "5cf300da-ac2f-4b0d-d687-66b470521809",
        "papermill": {
          "duration": 0.211274,
          "end_time": "2023-03-02T15:34:35.957471",
          "exception": false,
          "start_time": "2023-03-02T15:34:35.746197",
          "status": "completed"
        },
        "tags": []
      },
      "outputs": [
        {
          "data": {
            "image/png": "[encoded data removed]",
            "text/plain": [
              "<Figure size 700x400 with 1 Axes>"
            ]
          },
          "metadata": {},
          "output_type": "display_data"
        }
      ],
      "source": [
        "plt.figure(figsize=(7,4))\n",
        "\n",
        "df_test_six_months.groupby('Month')['Weekly_Sales'].sum().plot(kind='bar',color='Orange')\n",
        "plt.title('Month-wise Sales')\n",
        "\n",
        "plt.show()"
      ]
    },
    {
      "attachments": {},
      "cell_type": "markdown",
      "id": "aac0f50b",
      "metadata": {
        "id": "aac0f50b",
        "papermill": {
          "duration": 0.071003,
          "end_time": "2023-03-02T15:35:35.844968",
          "exception": false,
          "start_time": "2023-03-02T15:35:35.773965",
          "status": "completed"
        },
        "tags": []
      },
      "source": [
        "# **Model Building**"
      ]
    },
    {
      "cell_type": "code",
      "execution_count": 16,
      "id": "60535029",
      "metadata": {
        "colab": {
          "base_uri": "https://localhost:8080/",
          "height": 423
        },
        "execution": {
          "iopub.execute_input": "2023-03-02T15:35:35.994112Z",
          "iopub.status.busy": "2023-03-02T15:35:35.993615Z",
          "iopub.status.idle": "2023-03-02T15:35:36.000760Z",
          "shell.execute_reply": "2023-03-02T15:35:35.999830Z"
        },
        "id": "60535029",
        "outputId": "9aeb563f-80e4-4aa1-e521-7b0c100b01e3",
        "papermill": {
          "duration": 0.085131,
          "end_time": "2023-03-02T15:35:36.003289",
          "exception": false,
          "start_time": "2023-03-02T15:35:35.918158",
          "status": "completed"
        },
        "tags": []
      },
      "outputs": [],
      "source": [
        "x = df_train.drop(['Weekly_Sales'],axis=1)\n",
        "y = df_train['Weekly_Sales']\n",
        "x_train, x_val, y_train, y_val = train_test_split(x, y, test_size=0.2, random_state=42)"
      ]
    },
    {
      "cell_type": "code",
      "execution_count": 17,
      "id": "26935565",
      "metadata": {
        "id": "26935565"
      },
      "outputs": [],
      "source": [
        "# Define the regression models to test\n",
        "regression_models = [\n",
        "    LinearRegression(),\n",
        "    Ridge(),\n",
        "    Lasso(),\n",
        "    ElasticNet(),\n",
        "    RandomForestRegressor(),\n",
        "    DecisionTreeRegressor(),\n",
        "    KNeighborsRegressor(),\n",
        "    GradientBoostingRegressor(),\n",
        "    SGDRegressor()\n",
        "]"
      ]
    },
    {
      "cell_type": "code",
      "execution_count": 18,
      "id": "1902d553",
      "metadata": {
        "id": "1902d553"
      },
      "outputs": [],
      "source": [
        "# Create a pipeline for each regression model\n",
        "pipelines = []\n",
        "for model in regression_models:\n",
        "    pipeline = Pipeline([\n",
        "        ('scaler', StandardScaler()),  # Preprocessing step\n",
        "        ('regressor', model)  # Regression model\n",
        "    ])\n",
        "    pipelines.append(pipeline)"
      ]
    },
    {
      "cell_type": "code",
      "execution_count": 19,
      "id": "02e0e614",
      "metadata": {
        "id": "02e0e614"
      },
      "outputs": [],
      "source": [
        "# Fit the pipelines to the training data and evaluate performance on testing data\n",
        "results = []\n",
        "for pipeline in pipelines:\n",
        "    pipeline.fit(x_train, y_train)\n",
        "\n",
        "    y_pred = pipeline.predict(x_val)\n",
        "\n",
        "    mae = mean_absolute_error(y_val, y_pred)\n",
        "    mape = mean_absolute_percentage_error(y_val, y_pred)\n",
        "    mse = mean_squared_error(y_val, y_pred)\n",
        "    r2 = r2_score(y_val, y_pred)\n",
        "\n",
        "    model_name = pipeline.named_steps['regressor'].__class__.__name__\n",
        "    results.append({'Model': model_name, 'MSE': mse, 'R2 Score': r2, 'MAE': mae, 'MAPE': mape})"
      ]
    },
    {
      "cell_type": "code",
      "execution_count": 20,
      "id": "986275ec",
      "metadata": {
        "colab": {
          "base_uri": "https://localhost:8080/",
          "height": 394
        },
        "id": "986275ec",
        "outputId": "c2215519-6d82-4603-c7c3-b4a3f75e2c42"
      },
      "outputs": [
        {
          "data": {
            "text/html": [
              "<div>\n",
              "<style scoped>\n",
              "    .dataframe tbody tr th:only-of-type {\n",
              "        vertical-align: middle;\n",
              "    }\n",
              "\n",
              "    .dataframe tbody tr th {\n",
              "        vertical-align: top;\n",
              "    }\n",
              "\n",
              "    .dataframe thead th {\n",
              "        text-align: right;\n",
              "    }\n",
              "</style>\n",
              "<table border=\"1\" class=\"dataframe\">\n",
              "  <thead>\n",
              "    <tr style=\"text-align: right;\">\n",
              "      <th></th>\n",
              "      <th>Model</th>\n",
              "      <th>MSE</th>\n",
              "      <th>R2 Score</th>\n",
              "      <th>MAE</th>\n",
              "      <th>MAPE</th>\n",
              "    </tr>\n",
              "  </thead>\n",
              "  <tbody>\n",
              "    <tr>\n",
              "      <th>4</th>\n",
              "      <td>RandomForestRegressor</td>\n",
              "      <td>1.255141e+10</td>\n",
              "      <td>0.960728</td>\n",
              "      <td>63498.116374</td>\n",
              "      <td>0.059617</td>\n",
              "    </tr>\n",
              "    <tr>\n",
              "      <th>5</th>\n",
              "      <td>DecisionTreeRegressor</td>\n",
              "      <td>1.610879e+10</td>\n",
              "      <td>0.949597</td>\n",
              "      <td>72851.296389</td>\n",
              "      <td>0.068638</td>\n",
              "    </tr>\n",
              "    <tr>\n",
              "      <th>7</th>\n",
              "      <td>GradientBoostingRegressor</td>\n",
              "      <td>3.209303e+10</td>\n",
              "      <td>0.899585</td>\n",
              "      <td>133911.111513</td>\n",
              "      <td>0.169986</td>\n",
              "    </tr>\n",
              "    <tr>\n",
              "      <th>6</th>\n",
              "      <td>KNeighborsRegressor</td>\n",
              "      <td>1.353216e+11</td>\n",
              "      <td>0.576594</td>\n",
              "      <td>246846.973416</td>\n",
              "      <td>0.328808</td>\n",
              "    </tr>\n",
              "    <tr>\n",
              "      <th>0</th>\n",
              "      <td>LinearRegression</td>\n",
              "      <td>2.701550e+11</td>\n",
              "      <td>0.154716</td>\n",
              "      <td>431989.691682</td>\n",
              "      <td>0.619103</td>\n",
              "    </tr>\n",
              "    <tr>\n",
              "      <th>2</th>\n",
              "      <td>Lasso</td>\n",
              "      <td>2.701558e+11</td>\n",
              "      <td>0.154714</td>\n",
              "      <td>431989.654088</td>\n",
              "      <td>0.619105</td>\n",
              "    </tr>\n",
              "    <tr>\n",
              "      <th>1</th>\n",
              "      <td>Ridge</td>\n",
              "      <td>2.701659e+11</td>\n",
              "      <td>0.154682</td>\n",
              "      <td>431990.555170</td>\n",
              "      <td>0.619131</td>\n",
              "    </tr>\n",
              "    <tr>\n",
              "      <th>8</th>\n",
              "      <td>SGDRegressor</td>\n",
              "      <td>2.703875e+11</td>\n",
              "      <td>0.153989</td>\n",
              "      <td>432059.098487</td>\n",
              "      <td>0.619801</td>\n",
              "    </tr>\n",
              "    <tr>\n",
              "      <th>3</th>\n",
              "      <td>ElasticNet</td>\n",
              "      <td>2.769062e+11</td>\n",
              "      <td>0.133592</td>\n",
              "      <td>441098.524352</td>\n",
              "      <td>0.634853</td>\n",
              "    </tr>\n",
              "  </tbody>\n",
              "</table>\n",
              "</div>"
            ],
            "text/plain": [
              "                       Model           MSE  R2 Score            MAE      MAPE\n",
              "4      RandomForestRegressor  1.255141e+10  0.960728   63498.116374  0.059617\n",
              "5      DecisionTreeRegressor  1.610879e+10  0.949597   72851.296389  0.068638\n",
              "7  GradientBoostingRegressor  3.209303e+10  0.899585  133911.111513  0.169986\n",
              "6        KNeighborsRegressor  1.353216e+11  0.576594  246846.973416  0.328808\n",
              "0           LinearRegression  2.701550e+11  0.154716  431989.691682  0.619103\n",
              "2                      Lasso  2.701558e+11  0.154714  431989.654088  0.619105\n",
              "1                      Ridge  2.701659e+11  0.154682  431990.555170  0.619131\n",
              "8               SGDRegressor  2.703875e+11  0.153989  432059.098487  0.619801\n",
              "3                 ElasticNet  2.769062e+11  0.133592  441098.524352  0.634853"
            ]
          },
          "execution_count": 20,
          "metadata": {},
          "output_type": "execute_result"
        }
      ],
      "source": [
        "# Create a DataFrame to display the results\n",
        "results_df = pd.DataFrame(results)\n",
        "\n",
        "# Sort the results DataFrame by R2 score in descending order\n",
        "results_df = results_df.sort_values('R2 Score', ascending=False)\n",
        "results_df"
      ]
    },
    {
      "cell_type": "code",
      "execution_count": 21,
      "id": "bedadf94",
      "metadata": {},
      "outputs": [],
      "source": [
        "x_test_full_year = df_test_full_year.drop(['Weekly_Sales'],axis=1)\n",
        "y_test_full_year = df_test_full_year['Weekly_Sales']\n",
        "\n",
        "x_test_six_months = df_test_six_months.drop(['Weekly_Sales'],axis=1)\n",
        "y_test_six_months = df_test_six_months['Weekly_Sales']\n",
        "\n",
        "x_test_three_months = df_test_three_months.drop(['Weekly_Sales'],axis=1)\n",
        "y_test_three_months = df_test_three_months['Weekly_Sales']"
      ]
    },
    {
      "cell_type": "code",
      "execution_count": 23,
      "id": "pDv_XqT6WOkt",
      "metadata": {
        "colab": {
          "base_uri": "https://localhost:8080/"
        },
        "id": "pDv_XqT6WOkt",
        "outputId": "45e456b6-03b9-4cf1-e1da-1c87431876aa"
      },
      "outputs": [
        {
          "name": "stdout",
          "output_type": "stream",
          "text": [
            "Whole Year 'Model': RandomForestRegressor, 'MSE': 72312746096.52078, 'R2 Score': 0.7487815723158484, 'MAE': 149886.63319209305, 'MAPE': 0.15203111864101013\n",
            "Six Months 'Model': RandomForestRegressor, 'MSE': 66542952677.089676, 'R2 Score': 0.7728433307425208, 'MAE': 139110.6284223077, 'MAPE': 0.13885253418080293\n",
            "Three Months 'Model': RandomForestRegressor, 'MSE': 57079762952.93036, 'R2 Score': 0.7985634978327771, 'MAE': 128756.55060478627, 'MAPE': 0.13014213419830084\n"
          ]
        }
      ],
      "source": [
        "pipeline = Pipeline([\n",
        "    ('scaler', StandardScaler()),  # Preprocessing step\n",
        "    ('regressor', RandomForestRegressor())  # Chosen regression model\n",
        "])\n",
        "\n",
        "pipeline.fit(x_train, y_train)\n",
        "\n",
        "y_pred_full_year = pipeline.predict(x_test_full_year)\n",
        "y_pred_six_months = pipeline.predict(x_test_six_months)\n",
        "y_pred_three_months = pipeline.predict(x_test_three_months)\n",
        "\n",
        "mae_full_year = mean_absolute_error(y_test_full_year, y_pred_full_year)\n",
        "mae_six_months = mean_absolute_error(y_test_six_months, y_pred_six_months)\n",
        "mae_three_months = mean_absolute_error(y_test_three_months, y_pred_three_months)\n",
        "\n",
        "mape_full_year = mean_absolute_percentage_error(y_test_full_year, y_pred_full_year)\n",
        "mape_six_months = mean_absolute_percentage_error(y_test_six_months, y_pred_six_months)\n",
        "mape_three_months = mean_absolute_percentage_error(y_test_three_months, y_pred_three_months)\n",
        "\n",
        "mse_full_year = mean_squared_error(y_test_full_year, y_pred_full_year)\n",
        "mse_six_months = mean_squared_error(y_test_six_months, y_pred_six_months)\n",
        "mse_three_months = mean_squared_error(y_test_three_months, y_pred_three_months)\n",
        "\n",
        "r2_full_year = r2_score(y_test_full_year, y_pred_full_year)\n",
        "r2_six_months = r2_score(y_test_six_months, y_pred_six_months)\n",
        "r2_three_months = r2_score(y_test_three_months, y_pred_three_months)\n",
        "\n",
        "model_name = pipeline.named_steps['regressor'].__class__.__name__\n",
        "\n",
        "print(f\"Whole Year 'Model': {model_name}, 'MSE': {mse_full_year}, 'R2 Score': {r2_full_year}, 'MAE': {mae_full_year}, 'MAPE': {mape_full_year}\")\n",
        "print(f\"Six Months 'Model': {model_name}, 'MSE': {mse_six_months}, 'R2 Score': {r2_six_months}, 'MAE': {mae_six_months}, 'MAPE': {mape_six_months}\")\n",
        "print(f\"Three Months 'Model': {model_name}, 'MSE': {mse_three_months}, 'R2 Score': {r2_three_months}, 'MAE': {mae_three_months}, 'MAPE': {mape_three_months}\")"
      ]
    },
    {
      "cell_type": "code",
      "execution_count": 24,
      "id": "WHWgX89WrEmm",
      "metadata": {
        "colab": {
          "base_uri": "https://localhost:8080/",
          "height": 206
        },
        "id": "WHWgX89WrEmm",
        "outputId": "bf905f07-1632-44f8-e75a-a790188c0ca2"
      },
      "outputs": [
        {
          "data": {
            "text/html": [
              "<div>\n",
              "<style scoped>\n",
              "    .dataframe tbody tr th:only-of-type {\n",
              "        vertical-align: middle;\n",
              "    }\n",
              "\n",
              "    .dataframe tbody tr th {\n",
              "        vertical-align: top;\n",
              "    }\n",
              "\n",
              "    .dataframe thead th {\n",
              "        text-align: right;\n",
              "    }\n",
              "</style>\n",
              "<table border=\"1\" class=\"dataframe\">\n",
              "  <thead>\n",
              "    <tr style=\"text-align: right;\">\n",
              "      <th></th>\n",
              "      <th>Store</th>\n",
              "      <th>Weekly_Sales</th>\n",
              "      <th>Holiday_Flag</th>\n",
              "      <th>Temperature</th>\n",
              "      <th>Fuel_Price</th>\n",
              "      <th>CPI</th>\n",
              "      <th>Unemployment</th>\n",
              "      <th>Day</th>\n",
              "      <th>Week</th>\n",
              "      <th>Month</th>\n",
              "      <th>Year</th>\n",
              "      <th>Weekly_Sales_Pred</th>\n",
              "    </tr>\n",
              "  </thead>\n",
              "  <tbody>\n",
              "    <tr>\n",
              "      <th>100</th>\n",
              "      <td>1</td>\n",
              "      <td>1550369.92</td>\n",
              "      <td>0</td>\n",
              "      <td>49.01</td>\n",
              "      <td>3.157</td>\n",
              "      <td>219.714258</td>\n",
              "      <td>7.348</td>\n",
              "      <td>4</td>\n",
              "      <td>1</td>\n",
              "      <td>1</td>\n",
              "      <td>2012</td>\n",
              "      <td>1.647373e+06</td>\n",
              "    </tr>\n",
              "    <tr>\n",
              "      <th>101</th>\n",
              "      <td>1</td>\n",
              "      <td>1459601.17</td>\n",
              "      <td>0</td>\n",
              "      <td>48.53</td>\n",
              "      <td>3.261</td>\n",
              "      <td>219.892526</td>\n",
              "      <td>7.348</td>\n",
              "      <td>4</td>\n",
              "      <td>2</td>\n",
              "      <td>1</td>\n",
              "      <td>2012</td>\n",
              "      <td>1.648682e+06</td>\n",
              "    </tr>\n",
              "    <tr>\n",
              "      <th>102</th>\n",
              "      <td>1</td>\n",
              "      <td>1394393.84</td>\n",
              "      <td>0</td>\n",
              "      <td>54.11</td>\n",
              "      <td>3.268</td>\n",
              "      <td>219.985689</td>\n",
              "      <td>7.348</td>\n",
              "      <td>4</td>\n",
              "      <td>3</td>\n",
              "      <td>1</td>\n",
              "      <td>2012</td>\n",
              "      <td>1.674072e+06</td>\n",
              "    </tr>\n",
              "    <tr>\n",
              "      <th>103</th>\n",
              "      <td>1</td>\n",
              "      <td>1319325.59</td>\n",
              "      <td>0</td>\n",
              "      <td>54.26</td>\n",
              "      <td>3.290</td>\n",
              "      <td>220.078852</td>\n",
              "      <td>7.348</td>\n",
              "      <td>4</td>\n",
              "      <td>4</td>\n",
              "      <td>1</td>\n",
              "      <td>2012</td>\n",
              "      <td>1.683125e+06</td>\n",
              "    </tr>\n",
              "    <tr>\n",
              "      <th>104</th>\n",
              "      <td>1</td>\n",
              "      <td>1636339.65</td>\n",
              "      <td>0</td>\n",
              "      <td>56.55</td>\n",
              "      <td>3.360</td>\n",
              "      <td>220.172015</td>\n",
              "      <td>7.348</td>\n",
              "      <td>4</td>\n",
              "      <td>5</td>\n",
              "      <td>2</td>\n",
              "      <td>2012</td>\n",
              "      <td>1.739512e+06</td>\n",
              "    </tr>\n",
              "  </tbody>\n",
              "</table>\n",
              "</div>"
            ],
            "text/plain": [
              "     Store  Weekly_Sales  Holiday_Flag  Temperature  Fuel_Price         CPI   \n",
              "100      1    1550369.92             0        49.01       3.157  219.714258  \\\n",
              "101      1    1459601.17             0        48.53       3.261  219.892526   \n",
              "102      1    1394393.84             0        54.11       3.268  219.985689   \n",
              "103      1    1319325.59             0        54.26       3.290  220.078852   \n",
              "104      1    1636339.65             0        56.55       3.360  220.172015   \n",
              "\n",
              "     Unemployment  Day  Week  Month  Year  Weekly_Sales_Pred  \n",
              "100         7.348    4     1      1  2012       1.647373e+06  \n",
              "101         7.348    4     2      1  2012       1.648682e+06  \n",
              "102         7.348    4     3      1  2012       1.674072e+06  \n",
              "103         7.348    4     4      1  2012       1.683125e+06  \n",
              "104         7.348    4     5      2  2012       1.739512e+06  "
            ]
          },
          "execution_count": 24,
          "metadata": {},
          "output_type": "execute_result"
        }
      ],
      "source": [
        "df_test_full_year['Weekly_Sales_Pred'] = list(y_pred_full_year)\n",
        "df_test_full_year.head()"
      ]
    },
    {
      "cell_type": "code",
      "execution_count": 25,
      "id": "J0Ss7yswrScw",
      "metadata": {
        "colab": {
          "base_uri": "https://localhost:8080/"
        },
        "id": "J0Ss7yswrScw",
        "outputId": "1c641103-7b45-4562-82a6-034292592c44"
      },
      "outputs": [
        {
          "data": {
            "text/html": [
              "<div>\n",
              "<style scoped>\n",
              "    .dataframe tbody tr th:only-of-type {\n",
              "        vertical-align: middle;\n",
              "    }\n",
              "\n",
              "    .dataframe tbody tr th {\n",
              "        vertical-align: top;\n",
              "    }\n",
              "\n",
              "    .dataframe thead th {\n",
              "        text-align: right;\n",
              "    }\n",
              "</style>\n",
              "<table border=\"1\" class=\"dataframe\">\n",
              "  <thead>\n",
              "    <tr style=\"text-align: right;\">\n",
              "      <th></th>\n",
              "      <th>Store</th>\n",
              "      <th>Weekly_Sales</th>\n",
              "      <th>Holiday_Flag</th>\n",
              "      <th>Temperature</th>\n",
              "      <th>Fuel_Price</th>\n",
              "      <th>CPI</th>\n",
              "      <th>Unemployment</th>\n",
              "      <th>Day</th>\n",
              "      <th>Week</th>\n",
              "      <th>Month</th>\n",
              "      <th>Year</th>\n",
              "      <th>Weekly_Sales_Pred</th>\n",
              "    </tr>\n",
              "  </thead>\n",
              "  <tbody>\n",
              "    <tr>\n",
              "      <th>100</th>\n",
              "      <td>1</td>\n",
              "      <td>1550369.92</td>\n",
              "      <td>0</td>\n",
              "      <td>49.01</td>\n",
              "      <td>3.157</td>\n",
              "      <td>219.714258</td>\n",
              "      <td>7.348</td>\n",
              "      <td>4</td>\n",
              "      <td>1</td>\n",
              "      <td>1</td>\n",
              "      <td>2012</td>\n",
              "      <td>1.647373e+06</td>\n",
              "    </tr>\n",
              "    <tr>\n",
              "      <th>101</th>\n",
              "      <td>1</td>\n",
              "      <td>1459601.17</td>\n",
              "      <td>0</td>\n",
              "      <td>48.53</td>\n",
              "      <td>3.261</td>\n",
              "      <td>219.892526</td>\n",
              "      <td>7.348</td>\n",
              "      <td>4</td>\n",
              "      <td>2</td>\n",
              "      <td>1</td>\n",
              "      <td>2012</td>\n",
              "      <td>1.648682e+06</td>\n",
              "    </tr>\n",
              "    <tr>\n",
              "      <th>102</th>\n",
              "      <td>1</td>\n",
              "      <td>1394393.84</td>\n",
              "      <td>0</td>\n",
              "      <td>54.11</td>\n",
              "      <td>3.268</td>\n",
              "      <td>219.985689</td>\n",
              "      <td>7.348</td>\n",
              "      <td>4</td>\n",
              "      <td>3</td>\n",
              "      <td>1</td>\n",
              "      <td>2012</td>\n",
              "      <td>1.674072e+06</td>\n",
              "    </tr>\n",
              "    <tr>\n",
              "      <th>103</th>\n",
              "      <td>1</td>\n",
              "      <td>1319325.59</td>\n",
              "      <td>0</td>\n",
              "      <td>54.26</td>\n",
              "      <td>3.290</td>\n",
              "      <td>220.078852</td>\n",
              "      <td>7.348</td>\n",
              "      <td>4</td>\n",
              "      <td>4</td>\n",
              "      <td>1</td>\n",
              "      <td>2012</td>\n",
              "      <td>1.683125e+06</td>\n",
              "    </tr>\n",
              "    <tr>\n",
              "      <th>104</th>\n",
              "      <td>1</td>\n",
              "      <td>1636339.65</td>\n",
              "      <td>0</td>\n",
              "      <td>56.55</td>\n",
              "      <td>3.360</td>\n",
              "      <td>220.172015</td>\n",
              "      <td>7.348</td>\n",
              "      <td>4</td>\n",
              "      <td>5</td>\n",
              "      <td>2</td>\n",
              "      <td>2012</td>\n",
              "      <td>1.739512e+06</td>\n",
              "    </tr>\n",
              "  </tbody>\n",
              "</table>\n",
              "</div>"
            ],
            "text/plain": [
              "     Store  Weekly_Sales  Holiday_Flag  Temperature  Fuel_Price         CPI   \n",
              "100      1    1550369.92             0        49.01       3.157  219.714258  \\\n",
              "101      1    1459601.17             0        48.53       3.261  219.892526   \n",
              "102      1    1394393.84             0        54.11       3.268  219.985689   \n",
              "103      1    1319325.59             0        54.26       3.290  220.078852   \n",
              "104      1    1636339.65             0        56.55       3.360  220.172015   \n",
              "\n",
              "     Unemployment  Day  Week  Month  Year  Weekly_Sales_Pred  \n",
              "100         7.348    4     1      1  2012       1.647373e+06  \n",
              "101         7.348    4     2      1  2012       1.648682e+06  \n",
              "102         7.348    4     3      1  2012       1.674072e+06  \n",
              "103         7.348    4     4      1  2012       1.683125e+06  \n",
              "104         7.348    4     5      2  2012       1.739512e+06  "
            ]
          },
          "execution_count": 25,
          "metadata": {},
          "output_type": "execute_result"
        }
      ],
      "source": [
        "df_test_six_months['Weekly_Sales_Pred'] = list(y_pred_six_months)\n",
        "df_test_six_months.head()"
      ]
    },
    {
      "cell_type": "code",
      "execution_count": 26,
      "id": "hJhUZfZ7rvw7",
      "metadata": {
        "id": "hJhUZfZ7rvw7"
      },
      "outputs": [
        {
          "data": {
            "text/html": [
              "<div>\n",
              "<style scoped>\n",
              "    .dataframe tbody tr th:only-of-type {\n",
              "        vertical-align: middle;\n",
              "    }\n",
              "\n",
              "    .dataframe tbody tr th {\n",
              "        vertical-align: top;\n",
              "    }\n",
              "\n",
              "    .dataframe thead th {\n",
              "        text-align: right;\n",
              "    }\n",
              "</style>\n",
              "<table border=\"1\" class=\"dataframe\">\n",
              "  <thead>\n",
              "    <tr style=\"text-align: right;\">\n",
              "      <th></th>\n",
              "      <th>Store</th>\n",
              "      <th>Weekly_Sales</th>\n",
              "      <th>Holiday_Flag</th>\n",
              "      <th>Temperature</th>\n",
              "      <th>Fuel_Price</th>\n",
              "      <th>CPI</th>\n",
              "      <th>Unemployment</th>\n",
              "      <th>Day</th>\n",
              "      <th>Week</th>\n",
              "      <th>Month</th>\n",
              "      <th>Year</th>\n",
              "      <th>Weekly_Sales_Pred</th>\n",
              "    </tr>\n",
              "  </thead>\n",
              "  <tbody>\n",
              "    <tr>\n",
              "      <th>100</th>\n",
              "      <td>1</td>\n",
              "      <td>1550369.92</td>\n",
              "      <td>0</td>\n",
              "      <td>49.01</td>\n",
              "      <td>3.157</td>\n",
              "      <td>219.714258</td>\n",
              "      <td>7.348</td>\n",
              "      <td>4</td>\n",
              "      <td>1</td>\n",
              "      <td>1</td>\n",
              "      <td>2012</td>\n",
              "      <td>1.647373e+06</td>\n",
              "    </tr>\n",
              "    <tr>\n",
              "      <th>101</th>\n",
              "      <td>1</td>\n",
              "      <td>1459601.17</td>\n",
              "      <td>0</td>\n",
              "      <td>48.53</td>\n",
              "      <td>3.261</td>\n",
              "      <td>219.892526</td>\n",
              "      <td>7.348</td>\n",
              "      <td>4</td>\n",
              "      <td>2</td>\n",
              "      <td>1</td>\n",
              "      <td>2012</td>\n",
              "      <td>1.648682e+06</td>\n",
              "    </tr>\n",
              "    <tr>\n",
              "      <th>102</th>\n",
              "      <td>1</td>\n",
              "      <td>1394393.84</td>\n",
              "      <td>0</td>\n",
              "      <td>54.11</td>\n",
              "      <td>3.268</td>\n",
              "      <td>219.985689</td>\n",
              "      <td>7.348</td>\n",
              "      <td>4</td>\n",
              "      <td>3</td>\n",
              "      <td>1</td>\n",
              "      <td>2012</td>\n",
              "      <td>1.674072e+06</td>\n",
              "    </tr>\n",
              "    <tr>\n",
              "      <th>103</th>\n",
              "      <td>1</td>\n",
              "      <td>1319325.59</td>\n",
              "      <td>0</td>\n",
              "      <td>54.26</td>\n",
              "      <td>3.290</td>\n",
              "      <td>220.078852</td>\n",
              "      <td>7.348</td>\n",
              "      <td>4</td>\n",
              "      <td>4</td>\n",
              "      <td>1</td>\n",
              "      <td>2012</td>\n",
              "      <td>1.683125e+06</td>\n",
              "    </tr>\n",
              "    <tr>\n",
              "      <th>104</th>\n",
              "      <td>1</td>\n",
              "      <td>1636339.65</td>\n",
              "      <td>0</td>\n",
              "      <td>56.55</td>\n",
              "      <td>3.360</td>\n",
              "      <td>220.172015</td>\n",
              "      <td>7.348</td>\n",
              "      <td>4</td>\n",
              "      <td>5</td>\n",
              "      <td>2</td>\n",
              "      <td>2012</td>\n",
              "      <td>1.739512e+06</td>\n",
              "    </tr>\n",
              "  </tbody>\n",
              "</table>\n",
              "</div>"
            ],
            "text/plain": [
              "     Store  Weekly_Sales  Holiday_Flag  Temperature  Fuel_Price         CPI   \n",
              "100      1    1550369.92             0        49.01       3.157  219.714258  \\\n",
              "101      1    1459601.17             0        48.53       3.261  219.892526   \n",
              "102      1    1394393.84             0        54.11       3.268  219.985689   \n",
              "103      1    1319325.59             0        54.26       3.290  220.078852   \n",
              "104      1    1636339.65             0        56.55       3.360  220.172015   \n",
              "\n",
              "     Unemployment  Day  Week  Month  Year  Weekly_Sales_Pred  \n",
              "100         7.348    4     1      1  2012       1.647373e+06  \n",
              "101         7.348    4     2      1  2012       1.648682e+06  \n",
              "102         7.348    4     3      1  2012       1.674072e+06  \n",
              "103         7.348    4     4      1  2012       1.683125e+06  \n",
              "104         7.348    4     5      2  2012       1.739512e+06  "
            ]
          },
          "execution_count": 26,
          "metadata": {},
          "output_type": "execute_result"
        }
      ],
      "source": [
        "df_test_three_months['Weekly_Sales_Pred'] = list(y_pred_three_months)\n",
        "df_test_three_months.head()"
      ]
    }
  ],
  "metadata": {
    "colab": {
      "provenance": []
    },
    "kernelspec": {
      "display_name": "Python 3",
      "language": "python",
      "name": "python3"
    },
    "language_info": {
      "codemirror_mode": {
        "name": "ipython",
        "version": 3
      },
      "file_extension": ".py",
      "mimetype": "text/x-python",
      "name": "python",
      "nbconvert_exporter": "python",
      "pygments_lexer": "ipython3",
      "version": "3.10.11"
    },
    "papermill": {
      "default_parameters": {},
      "duration": 82.167778,
      "end_time": "2023-03-02T15:35:42.012387",
      "environment_variables": {},
      "exception": null,
      "input_path": "__notebook__.ipynb",
      "output_path": "__notebook__.ipynb",
      "parameters": {},
      "start_time": "2023-03-02T15:34:19.844609",
      "version": "2.3.4"
    }
  },
  "nbformat": 4,
  "nbformat_minor": 5
}
