{
  "cells": [
    {
      "cell_type": "code",
      "execution_count": 1,
      "metadata": {
        "id": "hYLYH4r5AlcR"
      },
      "outputs": [],
      "source": [
        "# https://www.kaggle.com/datasets/ruthgn/beer-profile-and-ratings-data-set\n",
        "\n",
        "import pandas as pd\n",
        "import joblib\n",
        "import numpy as np\n",
        "\n",
        "from sklearn.model_selection import train_test_split\n",
        "from sklearn.ensemble import RandomForestRegressor, RandomForestClassifier\n",
        "from sklearn.preprocessing import LabelEncoder, StandardScaler\n",
        "from sklearn.metrics import (\n",
        "    accuracy_score, \n",
        "    precision_score, \n",
        "    recall_score, \n",
        "    f1_score, \n",
        "    mean_squared_error, \n",
        "    r2_score,\n",
        "    mean_absolute_percentage_error\n",
        ")"
      ]
    },
    {
      "cell_type": "code",
      "execution_count": 2,
      "metadata": {
        "id": "yI573KI_BN2x"
      },
      "outputs": [
        {
          "data": {
            "text/html": [
              "<div>\n",
              "<style scoped>\n",
              "    .dataframe tbody tr th:only-of-type {\n",
              "        vertical-align: middle;\n",
              "    }\n",
              "\n",
              "    .dataframe tbody tr th {\n",
              "        vertical-align: top;\n",
              "    }\n",
              "\n",
              "    .dataframe thead th {\n",
              "        text-align: right;\n",
              "    }\n",
              "</style>\n",
              "<table border=\"1\" class=\"dataframe\">\n",
              "  <thead>\n",
              "    <tr style=\"text-align: right;\">\n",
              "      <th></th>\n",
              "      <th>Style</th>\n",
              "      <th>ABV</th>\n",
              "      <th>Min IBU</th>\n",
              "      <th>Max IBU</th>\n",
              "      <th>Astringency</th>\n",
              "      <th>Body</th>\n",
              "      <th>Alcohol</th>\n",
              "      <th>Bitter</th>\n",
              "      <th>Sweet</th>\n",
              "      <th>Sour</th>\n",
              "      <th>Salty</th>\n",
              "      <th>Fruits</th>\n",
              "      <th>Hoppy</th>\n",
              "      <th>Spices</th>\n",
              "      <th>Malty</th>\n",
              "    </tr>\n",
              "  </thead>\n",
              "  <tbody>\n",
              "    <tr>\n",
              "      <th>0</th>\n",
              "      <td>Altbier</td>\n",
              "      <td>5.3</td>\n",
              "      <td>25</td>\n",
              "      <td>50</td>\n",
              "      <td>13</td>\n",
              "      <td>32</td>\n",
              "      <td>9</td>\n",
              "      <td>47</td>\n",
              "      <td>74</td>\n",
              "      <td>33</td>\n",
              "      <td>0</td>\n",
              "      <td>33</td>\n",
              "      <td>57</td>\n",
              "      <td>8</td>\n",
              "      <td>111</td>\n",
              "    </tr>\n",
              "    <tr>\n",
              "      <th>1</th>\n",
              "      <td>Altbier</td>\n",
              "      <td>7.2</td>\n",
              "      <td>25</td>\n",
              "      <td>50</td>\n",
              "      <td>12</td>\n",
              "      <td>57</td>\n",
              "      <td>18</td>\n",
              "      <td>33</td>\n",
              "      <td>55</td>\n",
              "      <td>16</td>\n",
              "      <td>0</td>\n",
              "      <td>24</td>\n",
              "      <td>35</td>\n",
              "      <td>12</td>\n",
              "      <td>84</td>\n",
              "    </tr>\n",
              "    <tr>\n",
              "      <th>2</th>\n",
              "      <td>Altbier</td>\n",
              "      <td>5.0</td>\n",
              "      <td>25</td>\n",
              "      <td>50</td>\n",
              "      <td>14</td>\n",
              "      <td>37</td>\n",
              "      <td>6</td>\n",
              "      <td>42</td>\n",
              "      <td>43</td>\n",
              "      <td>11</td>\n",
              "      <td>0</td>\n",
              "      <td>10</td>\n",
              "      <td>54</td>\n",
              "      <td>4</td>\n",
              "      <td>62</td>\n",
              "    </tr>\n",
              "    <tr>\n",
              "      <th>3</th>\n",
              "      <td>Altbier</td>\n",
              "      <td>8.5</td>\n",
              "      <td>25</td>\n",
              "      <td>50</td>\n",
              "      <td>13</td>\n",
              "      <td>55</td>\n",
              "      <td>31</td>\n",
              "      <td>47</td>\n",
              "      <td>101</td>\n",
              "      <td>18</td>\n",
              "      <td>1</td>\n",
              "      <td>49</td>\n",
              "      <td>40</td>\n",
              "      <td>16</td>\n",
              "      <td>119</td>\n",
              "    </tr>\n",
              "    <tr>\n",
              "      <th>4</th>\n",
              "      <td>Altbier</td>\n",
              "      <td>7.2</td>\n",
              "      <td>25</td>\n",
              "      <td>50</td>\n",
              "      <td>25</td>\n",
              "      <td>51</td>\n",
              "      <td>26</td>\n",
              "      <td>44</td>\n",
              "      <td>45</td>\n",
              "      <td>9</td>\n",
              "      <td>1</td>\n",
              "      <td>11</td>\n",
              "      <td>51</td>\n",
              "      <td>20</td>\n",
              "      <td>95</td>\n",
              "    </tr>\n",
              "  </tbody>\n",
              "</table>\n",
              "</div>"
            ],
            "text/plain": [
              "     Style  ABV  Min IBU  Max IBU  Astringency  Body  Alcohol  Bitter  Sweet  \\\n",
              "0  Altbier  5.3       25       50           13    32        9      47     74   \n",
              "1  Altbier  7.2       25       50           12    57       18      33     55   \n",
              "2  Altbier  5.0       25       50           14    37        6      42     43   \n",
              "3  Altbier  8.5       25       50           13    55       31      47    101   \n",
              "4  Altbier  7.2       25       50           25    51       26      44     45   \n",
              "\n",
              "   Sour  Salty  Fruits  Hoppy  Spices  Malty  \n",
              "0    33      0      33     57       8    111  \n",
              "1    16      0      24     35      12     84  \n",
              "2    11      0      10     54       4     62  \n",
              "3    18      1      49     40      16    119  \n",
              "4     9      1      11     51      20     95  "
            ]
          },
          "execution_count": 2,
          "metadata": {},
          "output_type": "execute_result"
        }
      ],
      "source": [
        "# Load the CSV data into a DataFrame\n",
        "data = pd.read_csv('beer_data.csv',\n",
        "                   usecols=['Style', 'ABV', 'Min IBU', 'Max IBU', 'Astringency', \n",
        "                            'Body', 'Alcohol', 'Bitter', 'Sweet', 'Sour', 'Salty', 'Fruits', \n",
        "                            'Hoppy', 'Spices', 'Malty'])\n",
        "\n",
        "data.head()"
      ]
    },
    {
      "cell_type": "code",
      "execution_count": 3,
      "metadata": {},
      "outputs": [
        {
          "name": "stdout",
          "output_type": "stream",
          "text": [
            "<class 'pandas.core.frame.DataFrame'>\n",
            "RangeIndex: 3197 entries, 0 to 3196\n",
            "Data columns (total 15 columns):\n",
            " #   Column       Non-Null Count  Dtype  \n",
            "---  ------       --------------  -----  \n",
            " 0   Style        3197 non-null   object \n",
            " 1   ABV          3197 non-null   float64\n",
            " 2   Min IBU      3197 non-null   int64  \n",
            " 3   Max IBU      3197 non-null   int64  \n",
            " 4   Astringency  3197 non-null   int64  \n",
            " 5   Body         3197 non-null   int64  \n",
            " 6   Alcohol      3197 non-null   int64  \n",
            " 7   Bitter       3197 non-null   int64  \n",
            " 8   Sweet        3197 non-null   int64  \n",
            " 9   Sour         3197 non-null   int64  \n",
            " 10  Salty        3197 non-null   int64  \n",
            " 11  Fruits       3197 non-null   int64  \n",
            " 12  Hoppy        3197 non-null   int64  \n",
            " 13  Spices       3197 non-null   int64  \n",
            " 14  Malty        3197 non-null   int64  \n",
            "dtypes: float64(1), int64(13), object(1)\n",
            "memory usage: 374.8+ KB\n"
          ]
        }
      ],
      "source": [
        "data.info()"
      ]
    },
    {
      "cell_type": "code",
      "execution_count": 4,
      "metadata": {},
      "outputs": [],
      "source": [
        "# Split Data into Features (X) and Target (y)\n",
        "X = data.drop(columns=['Style', 'ABV'])\n",
        "y = data[['Style', 'ABV']]"
      ]
    },
    {
      "cell_type": "code",
      "execution_count": 5,
      "metadata": {},
      "outputs": [],
      "source": [
        "# Split the data into training and testing sets\n",
        "X_train, X_test, y_train, y_test = train_test_split(X, y, test_size=0.1, random_state=42)"
      ]
    },
    {
      "cell_type": "code",
      "execution_count": 6,
      "metadata": {},
      "outputs": [],
      "source": [
        "# Encode the 'Style' target labels using LabelEncoder\n",
        "label_encoder = LabelEncoder()\n",
        "y_style_train = label_encoder.fit_transform(y_train['Style'])\n",
        "y_style_test = label_encoder.transform(y_test['Style'])\n",
        "\n",
        "std_scaler = StandardScaler()\n",
        "X_train_scaled = std_scaler.fit_transform(X_train)\n",
        "X_test_scaled = std_scaler.transform(X_test)"
      ]
    },
    {
      "cell_type": "code",
      "execution_count": 7,
      "metadata": {},
      "outputs": [
        {
          "name": "stdout",
          "output_type": "stream",
          "text": [
            "Accuracy: 0.82\n",
            "Precision: 0.84\n",
            "Recall: 0.82\n",
            "F1: 0.82\n"
          ]
        },
        {
          "name": "stderr",
          "output_type": "stream",
          "text": [
            "/Users/gaya3krtk/Documents/NumPy_Pandas_Scikit_Masterclass/PandasNumPyScikit_MasterClass/.masterclass/lib/python3.9/site-packages/sklearn/metrics/_classification.py:1344: UndefinedMetricWarning: Precision is ill-defined and being set to 0.0 in labels with no predicted samples. Use `zero_division` parameter to control this behavior.\n",
            "  _warn_prf(average, modifier, msg_start, len(result))\n",
            "/Users/gaya3krtk/Documents/NumPy_Pandas_Scikit_Masterclass/PandasNumPyScikit_MasterClass/.masterclass/lib/python3.9/site-packages/sklearn/metrics/_classification.py:1344: UndefinedMetricWarning: Recall is ill-defined and being set to 0.0 in labels with no true samples. Use `zero_division` parameter to control this behavior.\n",
            "  _warn_prf(average, modifier, msg_start, len(result))\n"
          ]
        }
      ],
      "source": [
        "# Create and train the Random Forest Classifier\n",
        "random_forest_classifier = RandomForestClassifier(random_state=42)\n",
        "random_forest_classifier.fit(X_train_scaled, y_style_train)\n",
        "\n",
        "# Make predictions on the test set\n",
        "y_pred = random_forest_classifier.predict(X_test_scaled)\n",
        "\n",
        "# Convert the encoded predictions back to original style labels\n",
        "y_pred_original = label_encoder.inverse_transform(y_pred)\n",
        "\n",
        "# Evaluate the classifier's performance\n",
        "accuracy_val = accuracy_score(y_style_test, y_pred)\n",
        "precision_val = precision_score(y_style_test, y_pred, average='weighted')\n",
        "recall_val = recall_score(y_style_test, y_pred, average='weighted')\n",
        "f1_val = f1_score(y_style_test, y_pred, average='weighted')\n",
        "print(f\"Accuracy: {accuracy_val:.2f}\")\n",
        "print(f\"Precision: {precision_val:.2f}\")\n",
        "print(f\"Recall: {recall_val:.2f}\")\n",
        "print(f\"F1: {f1_val:.2f}\")"
      ]
    },
    {
      "cell_type": "code",
      "execution_count": 8,
      "metadata": {},
      "outputs": [
        {
          "name": "stdout",
          "output_type": "stream",
          "text": [
            "Mean Squared Error (MSE): 7.04\n",
            "R-squared (R2): 0.44\n"
          ]
        }
      ],
      "source": [
        "y_abv_train = y_train['ABV']\n",
        "y_abv_test = y_test['ABV']\n",
        "\n",
        "# Create and train the Random Forest Regressor\n",
        "random_forest_regressor = RandomForestRegressor(random_state=42)\n",
        "\n",
        "# Train the regressor on the full training data\n",
        "random_forest_regressor.fit(X_train_scaled, y_abv_train)\n",
        "\n",
        "# Make predictions on the test set\n",
        "y_pred = random_forest_regressor.predict(X_test_scaled)\n",
        "\n",
        "# Evaluate the regressor's performance\n",
        "mse = mean_squared_error(y_abv_test, y_pred)\n",
        "r2 = r2_score(y_abv_test, y_pred)\n",
        "mape = mean_absolute_percentage_error(y_abv_test, y_pred)\n",
        "\n",
        "print(f\"Mean Squared Error (MSE): {mse:.2f}\")\n",
        "print(f\"R-squared (R2): {r2:.2f}\")"
      ]
    },
    {
      "cell_type": "code",
      "execution_count": 9,
      "metadata": {},
      "outputs": [
        {
          "data": {
            "text/plain": [
              "['./multi_output_model.pkl']"
            ]
          },
          "execution_count": 9,
          "metadata": {},
          "output_type": "execute_result"
        }
      ],
      "source": [
        "joblib.dump([label_encoder, std_scaler, random_forest_classifier, random_forest_regressor], './multi_output_model.pkl')"
      ]
    },
    {
      "cell_type": "code",
      "execution_count": 12,
      "metadata": {},
      "outputs": [
        {
          "name": "stdout",
          "output_type": "stream",
          "text": [
            "['Pilsner - German'] [5.1215]\n",
            "                 Style  ABV\n",
            "1951  Pilsner - German  5.0\n"
          ]
        }
      ],
      "source": [
        "data = {\n",
        "        'Min IBU': 25,\n",
        "        'Max IBU': 40,\n",
        "        'Astringency': 32,\n",
        "        'Body': 27,\n",
        "        'Alcohol': 5,\n",
        "        'Bitter': 36,\n",
        "        'Sweet': 43,\n",
        "        'Sour': 18,\n",
        "        'Salty': 7,\n",
        "        'Fruits': 18,\n",
        "        'Hoppy': 58,\n",
        "        'Spices': 5,\n",
        "        'Malty': 70\n",
        "    }\n",
        "test_df = pd.DataFrame(data, index=[0])\n",
        "\n",
        "[label_encoder_new, std_scaler_new, random_forest_classifier_new, random_forest_regressor_new] = joblib.load('./multi_output_model.pkl')\n",
        "test_df_scaled = std_scaler.transform(test_df)\n",
        "y_pred_style = label_encoder_new.inverse_transform(random_forest_classifier_new.predict(test_df_scaled))\n",
        "y_pred_abv = random_forest_regressor_new.predict(test_df_scaled)\n",
        "\n",
        "print(y_pred_style, y_pred_abv)\n",
        "print(y_test.head(1))"
      ]
    }
  ],
  "metadata": {
    "colab": {
      "provenance": []
    },
    "kernelspec": {
      "display_name": ".masterclass",
      "language": "python",
      "name": ".masterclass"
    },
    "language_info": {
      "codemirror_mode": {
        "name": "ipython",
        "version": 3
      },
      "file_extension": ".py",
      "mimetype": "text/x-python",
      "name": "python",
      "nbconvert_exporter": "python",
      "pygments_lexer": "ipython3",
      "version": "3.9.6"
    }
  },
  "nbformat": 4,
  "nbformat_minor": 0
}
