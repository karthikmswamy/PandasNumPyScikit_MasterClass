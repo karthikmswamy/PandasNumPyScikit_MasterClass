{
 "cells": [
  {
   "cell_type": "code",
   "execution_count": null,
   "metadata": {},
   "outputs": [],
   "source": [
    "import pandas as pd\n",
    "import numpy as np\n",
    "import torch\n",
    "from torch.utils.tensorboard import SummaryWriter\n",
    "from sklearn.cluster import KMeans\n",
    "from sklearn.preprocessing import StandardScaler"
   ]
  },
  {
   "cell_type": "code",
   "execution_count": null,
   "metadata": {},
   "outputs": [],
   "source": [
    "# read data from file, original: https://archive.ics.uci.edu/ml/machine-learning-databases/00352/Online%20Retail.xlsx\n",
    "df = pd.read_csv(\n",
    "    './Online_Retail.csv', \n",
    "    # nrows=20000\n",
    ")\n",
    "df.fillna(-1, inplace=True)\n",
    "\n",
    "# Create features\n",
    "df['TotalPrice'] = df['Quantity'] * df['UnitPrice']\n",
    "df['InvoiceDate'] = pd.to_datetime(df['InvoiceDate'])\n",
    "df['Month'] = df['InvoiceDate'].dt.month\n",
    "df['Day'] = df['InvoiceDate'].dt.day\n",
    "df['Hour'] = df['InvoiceDate'].dt.hour\n",
    "\n",
    "# df.StockCode = df.StockCode.astype('category')\n",
    "# df.StockCode = df.StockCode.cat.codes\n",
    "df.head()"
   ]
  },
  {
   "cell_type": "code",
   "execution_count": null,
   "metadata": {},
   "outputs": [],
   "source": [
    "df.StockCode.value_counts()"
   ]
  },
  {
   "cell_type": "code",
   "execution_count": null,
   "metadata": {},
   "outputs": [],
   "source": [
    "df.CustomerID.value_counts()"
   ]
  },
  {
   "cell_type": "code",
   "execution_count": null,
   "metadata": {},
   "outputs": [],
   "source": [
    "# Group by CustomerID and Country\n",
    "grouped_data = df.groupby(['CustomerID', 'Country']).agg({'TotalPrice': 'sum', 'Quantity': 'sum', 'Month': 'nunique', 'Day': 'nunique', 'Hour': 'nunique'}).reset_index()"
   ]
  },
  {
   "cell_type": "code",
   "execution_count": null,
   "metadata": {},
   "outputs": [],
   "source": [
    "# Scale data\n",
    "scaler = StandardScaler()\n",
    "scaled_data = scaler.fit_transform(\n",
    "    grouped_data[['TotalPrice', \n",
    "                  'Quantity', \n",
    "                  'Month', \n",
    "                  'Day', \n",
    "                  'Hour'\n",
    "                ]])"
   ]
  },
  {
   "cell_type": "code",
   "execution_count": null,
   "metadata": {},
   "outputs": [],
   "source": [
    "scaled_data.shape"
   ]
  },
  {
   "cell_type": "code",
   "execution_count": null,
   "metadata": {},
   "outputs": [],
   "source": [
    "# Cluster data\n",
    "kmeans = KMeans(n_clusters=3)\n",
    "kmeans.fit(scaled_data)\n",
    "\n",
    "# Get cluster labels\n",
    "labels = kmeans.labels_"
   ]
  },
  {
   "cell_type": "code",
   "execution_count": null,
   "metadata": {},
   "outputs": [],
   "source": [
    "# Add cluster labels to data\n",
    "grouped_data['Cluster'] = labels\n",
    "\n",
    "# Calculate mean values for each cluster\n",
    "cluster_summary = grouped_data.groupby('Cluster').agg({'TotalPrice': 'mean', 'Quantity': 'mean', 'Month': 'mean', 'Day': 'mean', 'Hour': 'mean'}).reset_index()\n",
    "\n",
    "# Print cluster summary\n",
    "print(cluster_summary)"
   ]
  },
  {
   "cell_type": "code",
   "execution_count": null,
   "metadata": {},
   "outputs": [],
   "source": [
    "import matplotlib.pyplot as plt\n",
    "\n",
    "# Plot data\n",
    "plt.scatter(grouped_data['TotalPrice'], grouped_data['Quantity'], c=grouped_data['Cluster'])\n",
    "plt.xlabel('Total Price')\n",
    "plt.ylabel('Quantity')\n",
    "plt.show()"
   ]
  },
  {
   "cell_type": "code",
   "execution_count": null,
   "metadata": {},
   "outputs": [],
   "source": [
    "# Create subplots\n",
    "fig, axs = plt.subplots(2, 2, figsize=(10, 10))\n",
    "\n",
    "# Plot data\n",
    "axs[0, 0].scatter(grouped_data['TotalPrice'], grouped_data['Quantity'], c=grouped_data['Cluster'])\n",
    "axs[0, 0].set_xlabel('Total Price')\n",
    "axs[0, 0].set_ylabel('Quantity')\n",
    "\n",
    "axs[0, 1].scatter(grouped_data['TotalPrice'], grouped_data['Month'], c=grouped_data['Cluster'])\n",
    "axs[0, 1].set_xlabel('Total Price')\n",
    "axs[0, 1].set_ylabel('Month')\n",
    "\n",
    "axs[1, 0].scatter(grouped_data['TotalPrice'], grouped_data['Day'], c=grouped_data['Cluster'])\n",
    "axs[1, 0].set_xlabel('Total Price')\n",
    "axs[1, 0].set_ylabel('Day')\n",
    "\n",
    "axs[1, 1].scatter(grouped_data['TotalPrice'], grouped_data['Hour'], c=grouped_data['Cluster'])\n",
    "axs[1, 1].set_xlabel('Total Price')\n",
    "axs[1, 1].set_ylabel('Hour')\n",
    "\n",
    "plt.show()"
   ]
  },
  {
   "cell_type": "code",
   "execution_count": 1,
   "metadata": {},
   "outputs": [
    {
     "name": "stderr",
     "output_type": "stream",
     "text": [
      "c:\\Users\\karthik.muthuswamy\\Anaconda3\\envs\\ydata\\lib\\site-packages\\tqdm\\auto.py:21: TqdmWarning: IProgress not found. Please update jupyter and ipywidgets. See https://ipywidgets.readthedocs.io/en/stable/user_install.html\n",
      "  from .autonotebook import tqdm as notebook_tqdm\n",
      "c:\\Users\\karthik.muthuswamy\\Anaconda3\\envs\\ydata\\lib\\site-packages\\sklearn\\cluster\\_kmeans.py:870: FutureWarning: The default value of `n_init` will change from 10 to 'auto' in 1.4. Set the value of `n_init` explicitly to suppress the warning\n",
      "  warnings.warn(\n"
     ]
    }
   ],
   "source": [
    "# Import modules\n",
    "import numpy as np\n",
    "import torch\n",
    "from sklearn.cluster import KMeans\n",
    "from torch.utils.tensorboard import SummaryWriter\n",
    "\n",
    "# Generate some random data\n",
    "X = np.random.randn(100, 2)\n",
    "\n",
    "# Create a KMeans instance with 3 clusters\n",
    "kmeans = KMeans(n_clusters=3)\n",
    "\n",
    "# Fit the algorithm to the data\n",
    "kmeans.fit(X)\n",
    "\n",
    "# Obtain the cluster labels for each data point\n",
    "labels = kmeans.labels_\n",
    "\n",
    "# Create a SummaryWriter object that will write data to a log directory\n",
    "writer = SummaryWriter(log_dir=\"kmeans\")\n",
    "\n",
    "# Write the cluster labels as scalars to TensorBoard using the writer object\n",
    "for i in range(len(labels)):\n",
    "    writer.add_scalar(\"cluster\", labels[i], i)\n",
    "\n",
    "# Write the high-dimensional data as embeddings to TensorBoard using the writer object\n",
    "writer.add_embedding(torch.from_numpy(X), metadata=labels, tag=\"data\")\n",
    "\n",
    "# Close the writer object\n",
    "writer.close()"
   ]
  }
 ],
 "metadata": {
  "kernelspec": {
   "display_name": "base",
   "language": "python",
   "name": "python3"
  },
  "language_info": {
   "codemirror_mode": {
    "name": "ipython",
    "version": 3
   },
   "file_extension": ".py",
   "mimetype": "text/x-python",
   "name": "python",
   "nbconvert_exporter": "python",
   "pygments_lexer": "ipython3",
   "version": "3.10.10"
  },
  "orig_nbformat": 4
 },
 "nbformat": 4,
 "nbformat_minor": 2
}
