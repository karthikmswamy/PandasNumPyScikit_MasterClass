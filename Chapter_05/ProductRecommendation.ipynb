{
  "cells": [
    {
      "cell_type": "code",
      "execution_count": 1,
      "metadata": {
        "id": "NFLqzR9Rxa3E"
      },
      "outputs": [],
      "source": [
        "from sklearn.feature_extraction.text import TfidfVectorizer\n",
        "from sklearn.metrics.pairwise import cosine_similarity\n",
        "\n",
        "import numpy as np\n",
        "import pandas as pd"
      ]
    },
    {
      "cell_type": "code",
      "execution_count": 2,
      "metadata": {
        "id": "wrOaT29nxcXA"
      },
      "outputs": [
        {
          "data": {
            "text/html": [
              "<div>\n",
              "<style scoped>\n",
              "    .dataframe tbody tr th:only-of-type {\n",
              "        vertical-align: middle;\n",
              "    }\n",
              "\n",
              "    .dataframe tbody tr th {\n",
              "        vertical-align: top;\n",
              "    }\n",
              "\n",
              "    .dataframe thead th {\n",
              "        text-align: right;\n",
              "    }\n",
              "</style>\n",
              "<table border=\"1\" class=\"dataframe\">\n",
              "  <thead>\n",
              "    <tr style=\"text-align: right;\">\n",
              "      <th></th>\n",
              "      <th>id</th>\n",
              "      <th>gender</th>\n",
              "      <th>masterCategory</th>\n",
              "      <th>subCategory</th>\n",
              "      <th>articleType</th>\n",
              "      <th>baseColour</th>\n",
              "      <th>season</th>\n",
              "      <th>year</th>\n",
              "      <th>usage</th>\n",
              "      <th>productDisplayName</th>\n",
              "    </tr>\n",
              "  </thead>\n",
              "  <tbody>\n",
              "    <tr>\n",
              "      <th>0</th>\n",
              "      <td>15970</td>\n",
              "      <td>Men</td>\n",
              "      <td>Apparel</td>\n",
              "      <td>Topwear</td>\n",
              "      <td>Shirts</td>\n",
              "      <td>Navy Blue</td>\n",
              "      <td>Fall</td>\n",
              "      <td>2011.0</td>\n",
              "      <td>Casual</td>\n",
              "      <td>Turtle Check Men Navy Blue Shirt</td>\n",
              "    </tr>\n",
              "    <tr>\n",
              "      <th>1</th>\n",
              "      <td>39386</td>\n",
              "      <td>Men</td>\n",
              "      <td>Apparel</td>\n",
              "      <td>Bottomwear</td>\n",
              "      <td>Jeans</td>\n",
              "      <td>Blue</td>\n",
              "      <td>Summer</td>\n",
              "      <td>2012.0</td>\n",
              "      <td>Casual</td>\n",
              "      <td>Peter England Men Party Blue Jeans</td>\n",
              "    </tr>\n",
              "    <tr>\n",
              "      <th>2</th>\n",
              "      <td>59263</td>\n",
              "      <td>Women</td>\n",
              "      <td>Accessories</td>\n",
              "      <td>Watches</td>\n",
              "      <td>Watches</td>\n",
              "      <td>Silver</td>\n",
              "      <td>Winter</td>\n",
              "      <td>2016.0</td>\n",
              "      <td>Casual</td>\n",
              "      <td>Titan Women Silver Watch</td>\n",
              "    </tr>\n",
              "    <tr>\n",
              "      <th>3</th>\n",
              "      <td>21379</td>\n",
              "      <td>Men</td>\n",
              "      <td>Apparel</td>\n",
              "      <td>Bottomwear</td>\n",
              "      <td>Track Pants</td>\n",
              "      <td>Black</td>\n",
              "      <td>Fall</td>\n",
              "      <td>2011.0</td>\n",
              "      <td>Casual</td>\n",
              "      <td>Manchester United Men Solid Black Track Pants</td>\n",
              "    </tr>\n",
              "    <tr>\n",
              "      <th>4</th>\n",
              "      <td>53759</td>\n",
              "      <td>Men</td>\n",
              "      <td>Apparel</td>\n",
              "      <td>Topwear</td>\n",
              "      <td>Tshirts</td>\n",
              "      <td>Grey</td>\n",
              "      <td>Summer</td>\n",
              "      <td>2012.0</td>\n",
              "      <td>Casual</td>\n",
              "      <td>Puma Men Grey T-shirt</td>\n",
              "    </tr>\n",
              "  </tbody>\n",
              "</table>\n",
              "</div>"
            ],
            "text/plain": [
              "      id gender masterCategory subCategory  articleType baseColour  season   \n",
              "0  15970    Men        Apparel     Topwear       Shirts  Navy Blue    Fall  \\\n",
              "1  39386    Men        Apparel  Bottomwear        Jeans       Blue  Summer   \n",
              "2  59263  Women    Accessories     Watches      Watches     Silver  Winter   \n",
              "3  21379    Men        Apparel  Bottomwear  Track Pants      Black    Fall   \n",
              "4  53759    Men        Apparel     Topwear      Tshirts       Grey  Summer   \n",
              "\n",
              "     year   usage                             productDisplayName  \n",
              "0  2011.0  Casual               Turtle Check Men Navy Blue Shirt  \n",
              "1  2012.0  Casual             Peter England Men Party Blue Jeans  \n",
              "2  2016.0  Casual                       Titan Women Silver Watch  \n",
              "3  2011.0  Casual  Manchester United Men Solid Black Track Pants  \n",
              "4  2012.0  Casual                          Puma Men Grey T-shirt  "
            ]
          },
          "execution_count": 2,
          "metadata": {},
          "output_type": "execute_result"
        }
      ],
      "source": [
        "df = pd.read_csv('./Fashion.csv', usecols=['id','gender','masterCategory','subCategory','articleType','baseColour','season','year','usage','productDisplayName'])\n",
        "\n",
        "# We will replace all empty data with the None string\n",
        "df.productDisplayName.fillna('None', inplace=True)\n",
        "df.head()"
      ]
    },
    {
      "cell_type": "code",
      "execution_count": 3,
      "metadata": {},
      "outputs": [
        {
          "data": {
            "text/plain": [
              "productDisplayName\n",
              "Lucera Women Silver Earrings                       82\n",
              "Lucera Women Silver Pendant                        56\n",
              "Lucera Women Silver Ring                           50\n",
              "Catwalk Women Black Heels                          48\n",
              "Q&Q Men Black Dial Watch                           42\n",
              "                                                   ..\n",
              "Spykar Men Navy Blue Trevor Brief                   1\n",
              "Nike Mens White Polo T-shirt                        1\n",
              "Belmonte Men Solid Blue Shirts                      1\n",
              "Puma Men's Toe Crusher Black T-shirt                1\n",
              "Fossil Women Pink Dial Chronograph Watch ES3050     1\n",
              "Name: count, Length: 31136, dtype: int64"
            ]
          },
          "execution_count": 3,
          "metadata": {},
          "output_type": "execute_result"
        }
      ],
      "source": [
        "df.productDisplayName.value_counts()"
      ]
    },
    {
      "cell_type": "code",
      "execution_count": 5,
      "metadata": {},
      "outputs": [
        {
          "name": "stdout",
          "output_type": "stream",
          "text": [
            "Number of records with None: 7\n"
          ]
        }
      ],
      "source": [
        "print(f\"Number of records with None: {len(df[df.productDisplayName=='None'])}\")"
      ]
    },
    {
      "cell_type": "code",
      "execution_count": 6,
      "metadata": {
        "id": "IFIleKwfvuE_"
      },
      "outputs": [],
      "source": [
        "# Load your dataset into a list of texts\n",
        "texts = df.productDisplayName.tolist()\n",
        "\n",
        "# Create a TF-IDF vectorizer\n",
        "vectorizer = TfidfVectorizer()\n",
        "\n",
        "# Fit the vectorizer on your dataset\n",
        "vectorizer.fit(texts)\n",
        "\n",
        "# Transform the texts into vectors\n",
        "text_vectors = vectorizer.transform(texts)"
      ]
    },
    {
      "cell_type": "code",
      "execution_count": 7,
      "metadata": {
        "id": "0Xsueowmv5cS"
      },
      "outputs": [],
      "source": [
        "def similarity_tfidf(input_text):\n",
        "    # Get the input text from the request\n",
        "    # input_text = request.json['text']\n",
        "\n",
        "    # Transform the input text into a vector\n",
        "    input_vector = vectorizer.transform([input_text])\n",
        "\n",
        "    # Compute the similarity scores between the input and all texts\n",
        "    similarity_scores = text_vectors.dot(input_vector.T).toarray()\n",
        "\n",
        "    # Get the indices of the top three most similar texts\n",
        "    top_indices = similarity_scores.argsort(axis=0)[-3:][::-1].flatten()\n",
        "\n",
        "    # Get the top three most similar texts and their scores\n",
        "    results = []\n",
        "    for idx in top_indices:\n",
        "        text = texts[idx]\n",
        "        score = similarity_scores[idx, 0]\n",
        "        results.append({'text': text, 'score': score})\n",
        "\n",
        "    # Return the most similar text as a response\n",
        "    return {'most_similar_texts': results}"
      ]
    },
    {
      "cell_type": "code",
      "execution_count": 8,
      "metadata": {
        "id": "BNLfK6Tr0Gzs"
      },
      "outputs": [
        {
          "data": {
            "text/plain": [
              "{'most_similar_texts': [{'text': 'Nike Men Navy Blue T-shirt',\n",
              "   'score': 0.8014861256998236},\n",
              "  {'text': 'Nike Men Navy Blue T-shirt', 'score': 0.8014861256998236},\n",
              "  {'text': 'Puma Men Navy Blue T-shirt', 'score': 0.7960720876525432}]}"
            ]
          },
          "execution_count": 8,
          "metadata": {},
          "output_type": "execute_result"
        }
      ],
      "source": [
        "similarity_tfidf('Navy Blue Shirt')"
      ]
    },
    {
      "cell_type": "code",
      "execution_count": 9,
      "metadata": {},
      "outputs": [
        {
          "data": {
            "text/plain": [
              "{'most_similar_texts': [{'text': 'Q&Q Women Gold Dial Watch',\n",
              "   'score': 0.8227180734626993},\n",
              "  {'text': 'Titan Women Gold Watch', 'score': 0.712016388546559},\n",
              "  {'text': 'Titan Women Gold Watch', 'score': 0.712016388546559}]}"
            ]
          },
          "execution_count": 9,
          "metadata": {},
          "output_type": "execute_result"
        }
      ],
      "source": [
        "similarity_tfidf('Gold Watch')"
      ]
    },
    {
      "cell_type": "code",
      "execution_count": 10,
      "metadata": {},
      "outputs": [
        {
          "data": {
            "text/plain": [
              "{'most_similar_texts': [{'text': 'Converse Unisex Brush Print Green Casual Shoes',\n",
              "   'score': 0.4301585310494203},\n",
              "  {'text': 'Baggit Women Hero Brush Black Wallet',\n",
              "   'score': 0.42128234509467444},\n",
              "  {'text': 'Baggit Women Hero Brush Brown Wallet',\n",
              "   'score': 0.41550798232829356}]}"
            ]
          },
          "execution_count": 10,
          "metadata": {},
          "output_type": "execute_result"
        }
      ],
      "source": [
        "similarity_tfidf('paint brush')"
      ]
    },
    {
      "cell_type": "code",
      "execution_count": 11,
      "metadata": {},
      "outputs": [],
      "source": [
        "# Define the path to the GloVe word vectors file\n",
        "glove_file = './glove.6B/glove.6B.50d.txt'\n",
        "\n",
        "# Read the word vectors from the file\n",
        "word_vectors = {}\n",
        "with open(glove_file, 'r', encoding='utf-8') as file:\n",
        "    for line in file:\n",
        "        values = line.split()\n",
        "        word = values[0]\n",
        "        vector = np.array(values[1:], dtype=np.float32)\n",
        "        word_vectors[word] = vector"
      ]
    },
    {
      "cell_type": "code",
      "execution_count": 12,
      "metadata": {
        "id": "_afxjp7YHpqZ"
      },
      "outputs": [
        {
          "name": "stdout",
          "output_type": "stream",
          "text": [
            "(44446, 50)\n"
          ]
        }
      ],
      "source": [
        "# Tokenize and compute word embeddings for each text in the dataset\n",
        "embedding_size = 50\n",
        "text_embeddings = np.zeros((len(texts), 50))\n",
        "for idx, text in enumerate(texts):\n",
        "    tokens = text.lower().split()\n",
        "    embeddings = np.array([word_vectors[token] for token in tokens if token in word_vectors.keys()])\n",
        "    if embeddings.size > 1:\n",
        "        text_embedding = np.mean(embeddings, axis=0).reshape((1, embedding_size))\n",
        "        text_embeddings[idx, :] = text_embedding\n",
        "\n",
        "print(text_embeddings.shape)"
      ]
    },
    {
      "cell_type": "code",
      "execution_count": 13,
      "metadata": {
        "id": "q-R6U75nG3wY"
      },
      "outputs": [],
      "source": [
        "def similarity_pretrained(input_text):\n",
        "    # Tokenize the input text\n",
        "    input_tokens = input_text.lower().split()\n",
        "\n",
        "    # Compute the average word embedding for the input text\n",
        "    input_embedding = np.mean([word_vectors[token] for token in input_tokens if token in word_vectors.keys()], axis=0)\n",
        "\n",
        "    print(input_embedding.reshape(1, -1).shape)\n",
        "    # Compute the cosine similarity between the input embedding and all text embeddings\n",
        "    similarity_scores = cosine_similarity(input_embedding.reshape(1, -1), text_embeddings)\n",
        "\n",
        "    # Get the indices of the top three most similar texts\n",
        "    top_indices = similarity_scores.argsort(axis=1)[0][-3:][::-1]\n",
        "\n",
        "    # Get the top three most similar texts and their scores\n",
        "    results = []\n",
        "    for idx in top_indices:\n",
        "        text = texts[idx]\n",
        "        score = similarity_scores[0, idx]\n",
        "        results.append({'text': text, 'score': score})\n",
        "\n",
        "    # Return the most similar text as a response\n",
        "    return {'most_similar_texts': results}"
      ]
    },
    {
      "cell_type": "code",
      "execution_count": 14,
      "metadata": {
        "id": "wPUPx4vAJsrj"
      },
      "outputs": [
        {
          "name": "stdout",
          "output_type": "stream",
          "text": [
            "(1, 50)\n"
          ]
        },
        {
          "data": {
            "text/plain": [
              "{'most_similar_texts': [{'text': 'Fabindia Men Striped Navy Blue Shirt',\n",
              "   'score': 0.974948162068894},\n",
              "  {'text': 'Spykar Men Navy Blue  Shirt', 'score': 0.9689218819663892},\n",
              "  {'text': 'Spykar Men Ranger Navy Blue Shirt', 'score': 0.9642384108873676}]}"
            ]
          },
          "execution_count": 14,
          "metadata": {},
          "output_type": "execute_result"
        }
      ],
      "source": [
        "similarity_pretrained('Navy Blue Shirt')"
      ]
    },
    {
      "cell_type": "code",
      "execution_count": 15,
      "metadata": {},
      "outputs": [
        {
          "name": "stdout",
          "output_type": "stream",
          "text": [
            "(1, 50)\n"
          ]
        },
        {
          "data": {
            "text/plain": [
              "{'most_similar_texts': [{'text': 'Titan Women Gold Watch',\n",
              "   'score': 0.944164548689556},\n",
              "  {'text': 'Titan Women Gold Watch', 'score': 0.944164548689556},\n",
              "  {'text': 'Titan Women Gold Watch', 'score': 0.944164548689556}]}"
            ]
          },
          "execution_count": 15,
          "metadata": {},
          "output_type": "execute_result"
        }
      ],
      "source": [
        "similarity_pretrained('Gold Watch')"
      ]
    },
    {
      "cell_type": "code",
      "execution_count": 16,
      "metadata": {},
      "outputs": [
        {
          "name": "stdout",
          "output_type": "stream",
          "text": [
            "(1, 50)\n"
          ]
        },
        {
          "data": {
            "text/plain": [
              "{'most_similar_texts': [{'text': 'Colorbar I-Define Moss Green Eye Pencil 004',\n",
              "   'score': 0.827217819573097},\n",
              "  {'text': 'Just Natural Unisex Charcoal Rain Jacket',\n",
              "   'score': 0.786268494870539},\n",
              "  {'text': 'Cobblerz Women Charcoal Grey Wedges', 'score': 0.783575809749073}]}"
            ]
          },
          "execution_count": 16,
          "metadata": {},
          "output_type": "execute_result"
        }
      ],
      "source": [
        "similarity_pretrained('paint brush')"
      ]
    }
  ],
  "metadata": {
    "colab": {
      "provenance": []
    },
    "kernelspec": {
      "display_name": "Python 3",
      "name": "python3"
    },
    "language_info": {
      "codemirror_mode": {
        "name": "ipython",
        "version": 3
      },
      "file_extension": ".py",
      "mimetype": "text/x-python",
      "name": "python",
      "nbconvert_exporter": "python",
      "pygments_lexer": "ipython3",
      "version": "3.10.11"
    }
  },
  "nbformat": 4,
  "nbformat_minor": 0
}
