{
 "cells": [
  {
   "cell_type": "code",
   "execution_count": null,
   "metadata": {},
   "outputs": [],
   "source": [
    "import numpy as np\n",
    "from sklearn.neighbors import NearestNeighbors\n",
    "import matplotlib.pyplot as plt\n",
    "from tensorflow import keras\n",
    "from tensorflow.keras.applications import VGG16\n",
    "from tensorflow.keras.models import Model\n",
    "from tensorflow.image import resize\n",
    "\n",
    "import os\n",
    "os.environ[\"KMP_DUPLICATE_LIB_OK\"]=\"TRUE\"\n",
    "\n",
    "# Load the CIFAR-10 dataset\n",
    "(train_images, train_labels), (test_images, test_labels) = keras.datasets.cifar10.load_data()"
   ]
  },
  {
   "cell_type": "code",
   "execution_count": null,
   "metadata": {},
   "outputs": [],
   "source": [
    "# Preprocess the images\n",
    "train_images = train_images.astype('float32') / 255.0\n",
    "test_images = test_images.astype('float32') / 255.0"
   ]
  },
  {
   "cell_type": "code",
   "execution_count": null,
   "metadata": {},
   "outputs": [],
   "source": [
    "# Create a feature extraction model using VGG16\n",
    "base_model = VGG16(weights='imagenet', include_top=False)\n",
    "feature_extractor = Model(inputs=base_model.input, outputs=base_model.get_layer('block5_pool').output)"
   ]
  },
  {
   "cell_type": "code",
   "execution_count": null,
   "metadata": {},
   "outputs": [],
   "source": [
    "# Extract features from the images\n",
    "train_features = feature_extractor.predict(train_images)\n",
    "test_features = feature_extractor.predict(test_images)\n",
    "\n",
    "# Reshape the features\n",
    "train_features_flat = train_features.reshape(train_features.shape[0], -1)\n",
    "test_features_flat = test_features.reshape(test_features.shape[0], -1)\n",
    "\n",
    "# Create a Nearest Neighbors model\n",
    "n_neighbors = 5\n",
    "nn_model = NearestNeighbors(n_neighbors=n_neighbors)\n",
    "nn_model.fit(train_features_flat)"
   ]
  },
  {
   "cell_type": "code",
   "execution_count": null,
   "metadata": {},
   "outputs": [],
   "source": [
    "# Randomly select a test image index for retrieval from the test images\n",
    "test_image_index = np.random.randint(test_images.shape[0])\n",
    "print(test_image_index)\n",
    "\n",
    "# Load the test image and its features\n",
    "test_image = test_images[test_image_index]\n",
    "test_feature = test_features_flat[test_image_index].reshape(1, -1)\n",
    "\n",
    "# Find the most similar images to the test image\n",
    "distances, indices = nn_model.kneighbors(test_feature)\n",
    "\n",
    "# Get the class labels for train and test images\n",
    "train_labels = train_labels.flatten()\n",
    "test_label = test_labels[test_image_index][0]\n",
    "\n",
    "# Get the class names for CIFAR-10\n",
    "class_names = ['airplane', 'automobile', 'bird', 'cat', 'deer',\n",
    "               'dog', 'frog', 'horse', 'ship', 'truck']\n",
    "\n",
    "# Display the test image\n",
    "plt.figure(figsize=(2, 2))\n",
    "plt.imshow(test_image)\n",
    "plt.title('Query Image: {}'.format(class_names[test_labels[test_image_index][0]]))\n",
    "plt.axis('off')\n",
    "plt.show()\n",
    "\n",
    "# Display the retrieved images\n",
    "plt.figure(figsize=(10, 4))\n",
    "for i in range(n_neighbors):\n",
    "    train_image_index = indices[0][i]\n",
    "    train_image = train_images[train_image_index]\n",
    "    train_label = train_labels[train_image_index]\n",
    "    similarity_score = 1.0 / distances[0][i]  # Calculate similarity score\n",
    "    \n",
    "    plt.subplot(1, n_neighbors, i + 1)\n",
    "    plt.imshow(train_image)\n",
    "    plt.title('Sim Image: {}\\nSim Score: {:.4f}'.format(class_names[train_label], similarity_score))\n",
    "    plt.axis('off')\n",
    "plt.tight_layout()\n",
    "plt.show()"
   ]
  },
  {
   "attachments": {},
   "cell_type": "markdown",
   "metadata": {},
   "source": [
    "### VGG images\n",
    "\n",
    "9154: bird\n",
    "5568: horse\n",
    "9876: airplane\n",
    "1561: dog\n",
    "8101: ship"
   ]
  }
 ],
 "metadata": {
  "kernelspec": {
   "display_name": "base",
   "language": "python",
   "name": "python3"
  },
  "language_info": {
   "codemirror_mode": {
    "name": "ipython",
    "version": 3
   },
   "file_extension": ".py",
   "mimetype": "text/x-python",
   "name": "python",
   "nbconvert_exporter": "python",
   "pygments_lexer": "ipython3",
   "version": "3.10.11"
  },
  "orig_nbformat": 4
 },
 "nbformat": 4,
 "nbformat_minor": 2
}
